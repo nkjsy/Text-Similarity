{
 "cells": [
  {
   "cell_type": "code",
   "execution_count": 1,
   "metadata": {},
   "outputs": [],
   "source": [
    "import numpy as np\n",
    "import pandas as pd\n",
    "import xgboost as xgb\n",
    "from sklearn.ensemble import RandomForestClassifier\n",
    "from sklearn.neural_network import MLPClassifier\n",
    "from sklearn.metrics import log_loss\n",
    "from sklearn.model_selection import KFold\n",
    "import gc"
   ]
  },
  {
   "cell_type": "code",
   "execution_count": 2,
   "metadata": {},
   "outputs": [
    {
     "name": "stdout",
     "output_type": "stream",
     "text": [
      "(254386, 5) (254386,) (172956, 5)\n"
     ]
    }
   ],
   "source": [
    "feature_list = ['lr','xgb','svc','rf','knn','mlp']\n",
    "res_train = pd.read_csv('train_2s.csv')\n",
    "res_test = pd.read_csv('test_2s.csv')\n",
    "y_train = np.asarray(res_train.pop('label'))\n",
    "x_train = np.asarray(res_train.drop(columns='svc'))\n",
    "x_test = np.asarray(res_test.drop(columns='svc'))\n",
    "print (np.shape(x_train), np.shape(y_train), np.shape(x_test))"
   ]
  },
  {
   "cell_type": "code",
   "execution_count": 3,
   "metadata": {},
   "outputs": [
    {
     "name": "stdout",
     "output_type": "stream",
     "text": [
      "========== Fold 1: ==========\n",
      "========== Fold 2: ==========\n",
      "========== Fold 3: ==========\n",
      "========== Fold 4: ==========\n",
      "========== Fold 5: ==========\n",
      "========== Fold 6: ==========\n",
      "========== Fold 7: ==========\n",
      "========== Fold 8: ==========\n",
      "0.16716086975268896\n"
     ]
    }
   ],
   "source": [
    "kf = KFold(n_splits=8)\n",
    "n_fold = 0\n",
    "score = 0\n",
    "test_pred_list = []\n",
    "\n",
    "for train_index, valid_index in kf.split(x_train):\n",
    "    n_fold += 1\n",
    "    print (\"========== Fold %d: ==========\"%n_fold)\n",
    "    # split samples\n",
    "    x_tra, x_val = x_train[train_index], x_train[valid_index]\n",
    "    y_tra, y_val = y_train[train_index], y_train[valid_index]\n",
    "\n",
    "    # train the model\n",
    "    model = RandomForestClassifier(max_depth=6, n_jobs=-1)\n",
    "    model.fit(x_tra, y_tra)\n",
    "    \n",
    "    # predict\n",
    "    val_pred = model.predict_proba(x_val)[:,1]\n",
    "    test_pred = model.predict_proba(x_test)[:,1]\n",
    "    test_pred_list.append(test_pred)\n",
    "    \n",
    "    score += log_loss(y_val, val_pred)\n",
    "    del x_tra, x_val, y_tra, model, val_pred, test_pred\n",
    "    gc.collect()\n",
    "    \n",
    "# make the feature\n",
    "test_pred_list = np.asarray(test_pred_list)\n",
    "test_pred_list = np.mean(test_pred_list, axis=0)\n",
    "test_pred_list = np.squeeze(test_pred_list)\n",
    "\n",
    "print (score/8)\n",
    "result = pd.DataFrame({'y_pre': test_pred_list})\n",
    "result.to_csv('s_submission.csv', index=False)"
   ]
  },
  {
   "cell_type": "code",
   "execution_count": 20,
   "metadata": {},
   "outputs": [
    {
     "name": "stdout",
     "output_type": "stream",
     "text": [
      "========== Fold 1: ==========\n",
      "========== Fold 2: ==========\n",
      "========== Fold 3: ==========\n",
      "========== Fold 4: ==========\n",
      "========== Fold 5: ==========\n",
      "========== Fold 6: ==========\n",
      "========== Fold 7: ==========\n",
      "========== Fold 8: ==========\n",
      "0.17533636452844822\n"
     ]
    }
   ],
   "source": [
    "kf = KFold(n_splits=8)\n",
    "n_fold = 0\n",
    "score = 0\n",
    "test_pred_list = []\n",
    "\n",
    "for train_index, valid_index in kf.split(x_train):\n",
    "    n_fold += 1\n",
    "    print (\"========== Fold %d: ==========\"%n_fold)\n",
    "    # split samples\n",
    "    x_tra, x_val = x_train[train_index], x_train[valid_index]\n",
    "    y_tra, y_val = y_train[train_index], y_train[valid_index]\n",
    "\n",
    "    # train the model\n",
    "    model = xgb.XGBClassifier(\n",
    "        #learning_rate = 0.02,\n",
    "        n_estimators= 2000,\n",
    "        max_depth= 6,\n",
    "        min_child_weight= 3,\n",
    "        gamma=0.9,                        \n",
    "        subsample=0.8,\n",
    "        colsample_bytree=0.8,\n",
    "        objective= 'binary:logistic',\n",
    "        n_jobs= -1,\n",
    "        scale_pos_weight=1)\n",
    "    model.fit(x_tra, y_tra)\n",
    "    \n",
    "    # predict\n",
    "    val_pred = model.predict_proba(x_val)[:,1]\n",
    "    test_pred = model.predict_proba(x_test)[:,1]\n",
    "    test_pred_list.append(test_pred)\n",
    "    \n",
    "    score += log_loss(y_val, val_pred)\n",
    "    del x_tra, x_val, y_tra, model, val_pred, test_pred\n",
    "    gc.collect()\n",
    "    \n",
    "# make the feature\n",
    "test_pred_list = np.asarray(test_pred_list)\n",
    "test_pred_list = np.mean(test_pred_list, axis=0)\n",
    "test_pred_list = np.squeeze(test_pred_list)\n",
    "\n",
    "print (score/8)\n",
    "result = pd.DataFrame({'y_pre': test_pred_list})\n",
    "result.to_csv('s_submission.csv', index=False)"
   ]
  },
  {
   "cell_type": "code",
   "execution_count": null,
   "metadata": {},
   "outputs": [],
   "source": []
  }
 ],
 "metadata": {
  "kernelspec": {
   "display_name": "Python 3",
   "language": "python",
   "name": "python3"
  },
  "language_info": {
   "codemirror_mode": {
    "name": "ipython",
    "version": 3
   },
   "file_extension": ".py",
   "mimetype": "text/x-python",
   "name": "python",
   "nbconvert_exporter": "python",
   "pygments_lexer": "ipython3",
   "version": "3.6.5"
  }
 },
 "nbformat": 4,
 "nbformat_minor": 2
}
