{
 "cells": [
  {
   "cell_type": "markdown",
   "metadata": {},
   "source": [
    "## Import packages"
   ]
  },
  {
   "cell_type": "code",
   "execution_count": 1,
   "metadata": {},
   "outputs": [],
   "source": [
    "import numpy as np\n",
    "import pandas as pd\n",
    "from matplotlib import pyplot as plt"
   ]
  },
  {
   "cell_type": "code",
   "execution_count": 2,
   "metadata": {},
   "outputs": [],
   "source": [
    "import os\n",
    "os.environ[\"PATH\"] += os.pathsep + 'C:/Program Files (x86)/Graphviz2.38/bin/'  # 安装graphviz的路径，用于模型可视化"
   ]
  },
  {
   "cell_type": "code",
   "execution_count": 3,
   "metadata": {},
   "outputs": [
    {
     "name": "stderr",
     "output_type": "stream",
     "text": [
      "Using TensorFlow backend.\n"
     ]
    }
   ],
   "source": [
    "import keras\n",
    "from keras.preprocessing.text import Tokenizer, text_to_word_sequence\n",
    "from keras.preprocessing.sequence import pad_sequences\n",
    "from keras.layers import Dense, Input, LSTM, Embedding, Dropout, Activation, SpatialDropout1D, GRU, BatchNormalization, RepeatVector, Lambda\n",
    "from keras.layers.merge import concatenate, multiply, dot\n",
    "from keras.layers import Bidirectional, GlobalMaxPooling1D, GlobalAveragePooling1D, TimeDistributed\n",
    "from keras.models import Model, Sequential\n",
    "from keras import optimizers, layers\n",
    "from keras.callbacks import ModelCheckpoint, EarlyStopping, ReduceLROnPlateau\n",
    "from keras.utils import plot_model\n",
    "from keras.engine.topology import Layer\n",
    "from keras import backend as K\n",
    "from sklearn.model_selection import train_test_split\n",
    "from sklearn.metrics import log_loss"
   ]
  },
  {
   "cell_type": "markdown",
   "metadata": {},
   "source": [
    "## Hyper parameter setting"
   ]
  },
  {
   "cell_type": "code",
   "execution_count": 4,
   "metadata": {},
   "outputs": [],
   "source": [
    "token = 'words' # based on words or chars\n",
    "embed_size = 300 # how big is each word vector\n",
    "max_features = 20890 # how many unique words to use (i.e num rows in embedding vector)\n",
    "maxlen = 40 # max number of words in a comment to use\n",
    "num_rnn_units = 128 # output dim for LSTM or GRU\n",
    "num_hidden_units = 200 # output dim for dense layer\n",
    "drop_prob = 0.2\n",
    "max_norm = 5.0 # gradient clipping\n",
    "mp = 5 # multi-perspective matching"
   ]
  },
  {
   "cell_type": "markdown",
   "metadata": {},
   "source": [
    "## File path"
   ]
  },
  {
   "cell_type": "code",
   "execution_count": 5,
   "metadata": {},
   "outputs": [],
   "source": [
    "TRAIN_PATH = './train.csv'\n",
    "TEST_PATH = './test.csv'\n",
    "QUESTION_PATH = './question.csv'\n",
    "embed_files = {'words': './word_embed.txt', 'chars': './char_embed.txt'}"
   ]
  },
  {
   "cell_type": "markdown",
   "metadata": {},
   "source": [
    "## Some helper function"
   ]
  },
  {
   "cell_type": "code",
   "execution_count": 6,
   "metadata": {},
   "outputs": [],
   "source": [
    "# Get question id from a list. Remove the Q\n",
    "def get_ids(qids):\n",
    "    ids = []\n",
    "    for t_ in qids:\n",
    "        ids.append(int(t_[1:]))\n",
    "    return np.asarray(ids)\n",
    "\n",
    "# Get the text\n",
    "def get_texts(q_list, question_path=QUESTION_PATH):\n",
    "    qes = pd.read_csv(question_path)\n",
    "    ids = get_ids(q_list)\n",
    "    all_tokens = qes[token]\n",
    "    texts = [all_tokens[t] for t in ids]\n",
    "    return texts"
   ]
  },
  {
   "cell_type": "markdown",
   "metadata": {},
   "source": [
    "## Read the text"
   ]
  },
  {
   "cell_type": "markdown",
   "metadata": {},
   "source": [
    "#### Train data\n",
    "split some data for validation"
   ]
  },
  {
   "cell_type": "code",
   "execution_count": 7,
   "metadata": {},
   "outputs": [
    {
     "name": "stderr",
     "output_type": "stream",
     "text": [
      "C:\\Users\\SJ\\AppData\\Local\\conda\\conda\\envs\\deep\\lib\\site-packages\\sklearn\\model_selection\\_split.py:2026: FutureWarning: From version 0.21, test_size will always complement train_size unless both are specified.\n",
      "  FutureWarning)\n"
     ]
    }
   ],
   "source": [
    "train = pd.read_csv(TRAIN_PATH)\n",
    "list_train = list(zip(train['q1'], train['q2']))\n",
    "label_train = train['label']\n",
    "#print(len(list_train), len(label_train))\n",
    "\n",
    "X_tra, X_val, y_tra, y_val = train_test_split(list_train, label_train, train_size=0.85, random_state=8, shuffle=True)\n",
    "\n",
    "# get the text list of question 1 and 2\n",
    "q1_train = [i[0] for i in X_tra]\n",
    "text1_train = get_texts(q1_train)\n",
    "q2_train = [i[1] for i in X_tra]\n",
    "text2_train = get_texts(q2_train)\n",
    "q1_val = [i[0] for i in X_val]\n",
    "text1_val = get_texts(q1_val)\n",
    "q2_val = [i[1] for i in X_val]\n",
    "text2_val = get_texts(q2_val)"
   ]
  },
  {
   "cell_type": "markdown",
   "metadata": {},
   "source": [
    "#### Test data"
   ]
  },
  {
   "cell_type": "code",
   "execution_count": 8,
   "metadata": {},
   "outputs": [],
   "source": [
    "test = pd.read_csv(TEST_PATH)\n",
    "list_test = list(zip(test['q1'], test['q2']))\n",
    "\n",
    "# get the text list of question 1 and 2\n",
    "q1_test = [i[0] for i in list_test]\n",
    "text1_test = get_texts(q1_test)\n",
    "q2_test = [i[1] for i in list_test]\n",
    "text2_test = get_texts(q2_test)"
   ]
  },
  {
   "cell_type": "markdown",
   "metadata": {},
   "source": [
    "## Tokenize"
   ]
  },
  {
   "cell_type": "code",
   "execution_count": 9,
   "metadata": {},
   "outputs": [],
   "source": [
    "tokenizer = Tokenizer(num_words=max_features, lower=False) # Don't lower the W or L!!!\n",
    "tokenizer.fit_on_texts(pd.read_csv(QUESTION_PATH)[token])\n",
    "\n",
    "# train set\n",
    "tokenized1_train = tokenizer.texts_to_sequences(text1_train)\n",
    "tokenized2_train = tokenizer.texts_to_sequences(text2_train)\n",
    "X1_train = pad_sequences(tokenized1_train, maxlen=maxlen)\n",
    "X2_train = pad_sequences(tokenized2_train, maxlen=maxlen)\n",
    "\n",
    "# validation set\n",
    "tokenized1_val = tokenizer.texts_to_sequences(text1_val)\n",
    "tokenized2_val = tokenizer.texts_to_sequences(text2_val)\n",
    "X1_val = pad_sequences(tokenized1_val, maxlen=maxlen)\n",
    "X2_val = pad_sequences(tokenized2_val, maxlen=maxlen)\n",
    "\n",
    "# test set\n",
    "tokenized1_test = tokenizer.texts_to_sequences(text1_test)\n",
    "tokenized2_test = tokenizer.texts_to_sequences(text2_test)\n",
    "X1_test = pad_sequences(tokenized1_test, maxlen=maxlen)\n",
    "X2_test = pad_sequences(tokenized2_test, maxlen=maxlen)"
   ]
  },
  {
   "cell_type": "markdown",
   "metadata": {},
   "source": [
    "## Prepare the pretrained word embedding"
   ]
  },
  {
   "cell_type": "code",
   "execution_count": 10,
   "metadata": {},
   "outputs": [
    {
     "name": "stdout",
     "output_type": "stream",
     "text": [
      "20891\n"
     ]
    }
   ],
   "source": [
    "def get_coefs(line): return line[0], np.asarray(line[1:], dtype='float32')\n",
    "embed_file = embed_files[token]\n",
    "embeddings_index = dict(get_coefs(o.strip().split()) for o in open(embed_file, encoding='utf-8'))\n",
    "print (len(embeddings_index.items()))\n",
    "#print (list(embeddings_index.items())[20890])"
   ]
  },
  {
   "cell_type": "code",
   "execution_count": 11,
   "metadata": {},
   "outputs": [
    {
     "data": {
      "text/plain": [
       "(0.015683081, 1.1956546)"
      ]
     },
     "execution_count": 11,
     "metadata": {},
     "output_type": "execute_result"
    }
   ],
   "source": [
    "all_embs = np.hstack(embeddings_index.values())\n",
    "emb_mean,emb_std = all_embs.mean(), all_embs.std()\n",
    "emb_mean,emb_std"
   ]
  },
  {
   "cell_type": "code",
   "execution_count": 12,
   "metadata": {},
   "outputs": [],
   "source": [
    "word_index = tokenizer.word_index\n",
    "embedding_matrix = np.random.normal(emb_mean, emb_std, (max_features+1, embed_size))\n",
    "\n",
    "for word, i in word_index.items():\n",
    "    if i > max_features: break\n",
    "    embedding_vector = embeddings_index.get(word)\n",
    "    #print (i, word, len(embedding_vector))\n",
    "    if embedding_vector is not None: embedding_matrix[i] = embedding_vector"
   ]
  },
  {
   "cell_type": "code",
   "execution_count": 13,
   "metadata": {},
   "outputs": [],
   "source": [
    "embedding_matrix = np.asarray(embedding_matrix, dtype='float32')"
   ]
  },
  {
   "cell_type": "markdown",
   "metadata": {},
   "source": [
    "## Build the model"
   ]
  },
  {
   "cell_type": "code",
   "execution_count": 14,
   "metadata": {},
   "outputs": [],
   "source": [
    "K.clear_session()"
   ]
  },
  {
   "cell_type": "markdown",
   "metadata": {},
   "source": [
    "### self defined multi-perspective cosine matching layer"
   ]
  },
  {
   "cell_type": "code",
   "execution_count": 22,
   "metadata": {},
   "outputs": [],
   "source": [
    "class MultiPerspective(Layer):\n",
    "    \"\"\"Multi-perspective Matching Layer.\n",
    "    # Arguments\n",
    "        mp_dim: single forward/backward multi-perspective dimention\n",
    "    \"\"\"\n",
    "\n",
    "    def __init__(self, mp_dim, epsilon=1e-6, **kwargs):\n",
    "        self.mp_dim = mp_dim\n",
    "        self.epsilon = 1e-6\n",
    "        self.strategy = 4\n",
    "        super(MultiPerspective, self).__init__(**kwargs)\n",
    "\n",
    "    def build(self, input_shape):\n",
    "        if isinstance(input_shape, list):\n",
    "            input_shape = input_shape[0]\n",
    "        embedding_size = input_shape[-1] / 2\n",
    "        embedding_size = int(embedding_size)\n",
    "        # Create a trainable weight variable for this layer.\n",
    "        # input_shape is bidirectional RNN input shape\n",
    "        # kernel shape (mp_dim * 2 * self.strategy, embedding_size)\n",
    "        self.kernel = self.add_weight((int(self.mp_dim),\n",
    "                                       int(embedding_size * 2 * self.strategy)),\n",
    "                                       name='kernel',\n",
    "                                       initializer='glorot_uniform',\n",
    "                                       trainable=True)\n",
    "        self.kernel_full_fw = self.kernel[:, :embedding_size]\n",
    "        self.kernel_full_bw = self.kernel[:, embedding_size: embedding_size * 2]\n",
    "        self.kernel_attentive_fw = self.kernel[:, embedding_size * 2: embedding_size * 3]\n",
    "        self.kernel_attentive_bw = self.kernel[:, embedding_size * 3: embedding_size * 4]\n",
    "        self.kernel_max_attentive_fw = self.kernel[:, embedding_size * 4: embedding_size * 5]\n",
    "        self.kernel_max_attentive_bw = self.kernel[:, embedding_size * 5: embedding_size * 6]\n",
    "        self.kernel_max_pool_fw = self.kernel[:, embedding_size * 6: embedding_size * 7]\n",
    "        self.kernel_max_pool_bw = self.kernel[:, embedding_size * 7:]\n",
    "        self.built = True\n",
    "        super(MultiPerspective, self).build(input_shape)\n",
    "\n",
    "    def compute_output_shape(self, input_shape):\n",
    "        if isinstance(input_shape, list):\n",
    "            input_shape = input_shape[0]\n",
    "        return (input_shape[0], input_shape[1], self.mp_dim * 2 * self.strategy)\n",
    "\n",
    "    def get_config(self):\n",
    "        config = {'mp_dim': self.mp_dim,\n",
    "                  'epsilon': self.epsilon}\n",
    "        base_config = super(MultiPerspective, self).get_config()\n",
    "        return dict(list(base_config.items()) + list(config.items()))\n",
    "\n",
    "    def call(self, inputs):\n",
    "        # h1, h2: bidirectional LSTM hidden states, include forward and backward states\n",
    "        #         (batch_size, timesteps, embedding_size * 2)\n",
    "        h1 = inputs[0]\n",
    "        h2 = inputs[1]\n",
    "        embedding_size = K.int_shape(h1)[-1] / 2\n",
    "        embedding_size = int(embedding_size)\n",
    "        h1_fw = h1[:, :, :embedding_size]\n",
    "        h1_bw = h1[:, :, embedding_size:]\n",
    "        h2_fw = h2[:, :, :embedding_size]\n",
    "        h2_bw = h2[:, :, embedding_size:]\n",
    "\n",
    "        # 4 matching strategy\n",
    "        list_matching = []\n",
    "\n",
    "        # full matching ops\n",
    "        matching_fw = self._full_matching(h1_fw, h2_fw, self.kernel_full_fw)\n",
    "        matching_bw = self._full_matching(h1_bw, h2_bw, self.kernel_full_bw)\n",
    "        list_matching.extend([matching_fw, matching_bw])\n",
    "\n",
    "        # cosine matrix\n",
    "        cosine_matrix_fw = self._cosine_matrix(h1_fw, h2_fw)\n",
    "        cosine_matrix_bw = self._cosine_matrix(h1_bw, h2_bw)\n",
    "\n",
    "        # attentive matching ops\n",
    "        matching_fw = self._attentive_matching(\n",
    "            h1_fw, h2_fw, cosine_matrix_fw, self.kernel_attentive_fw)\n",
    "        matching_bw = self._attentive_matching(\n",
    "            h1_bw, h2_bw, cosine_matrix_bw, self.kernel_attentive_bw)\n",
    "        list_matching.extend([matching_fw, matching_bw])\n",
    "\n",
    "        # max attentive matching ops\n",
    "        matching_fw = self._max_attentive_matching(\n",
    "            h1_fw, h2_fw, cosine_matrix_fw, self.kernel_max_attentive_fw)\n",
    "        matching_bw = self._max_attentive_matching(\n",
    "            h1_bw, h2_bw, cosine_matrix_bw, self.kernel_max_attentive_bw)\n",
    "        list_matching.extend([matching_fw, matching_bw])\n",
    "\n",
    "        # max pooling matching ops\n",
    "        matching_fw = self._max_pooling_matching(h1_fw, h2_fw, self.kernel_max_pool_fw)\n",
    "        matching_bw = self._max_pooling_matching(h1_bw, h2_bw, self.kernel_max_pool_bw)\n",
    "        list_matching.extend([matching_fw, matching_bw])\n",
    "\n",
    "        return K.concatenate(list_matching, axis=-1)\n",
    "\n",
    "    def _cosine_similarity(self, x1, x2):\n",
    "        \"\"\"Compute cosine similarity.\n",
    "        # Arguments:\n",
    "            x1: (..., embedding_size)\n",
    "            x2: (..., embedding_size)\n",
    "        \"\"\"\n",
    "        cos = K.sum(x1 * x2, axis=-1)\n",
    "        x1_norm = K.sqrt(K.maximum(K.sum(K.square(x1), axis=-1), self.epsilon))\n",
    "        x2_norm = K.sqrt(K.maximum(K.sum(K.square(x2), axis=-1), self.epsilon))\n",
    "        cos = cos / x1_norm / x2_norm\n",
    "        return cos\n",
    "\n",
    "    def _cosine_matrix(self, x1, x2):\n",
    "        \"\"\"Cosine similarity matrix.\n",
    "        Calculate the cosine similarities between each forward (or backward)\n",
    "        contextual embedding h_i_p and every forward (or backward)\n",
    "        contextual embeddings of the other sentence\n",
    "        # Arguments\n",
    "            x1: (batch_size, x1_timesteps, embedding_size)\n",
    "            x2: (batch_size, x2_timesteps, embedding_size)\n",
    "        # Output shape\n",
    "            (batch_size, x1_timesteps, x2_timesteps)\n",
    "        \"\"\"\n",
    "        # expand h1 shape to (batch_size, x1_timesteps, 1, embedding_size)\n",
    "        x1 = K.expand_dims(x1, axis=2)\n",
    "        # expand x2 shape to (batch_size, 1, x2_timesteps, embedding_size)\n",
    "        x2 = K.expand_dims(x2, axis=1)\n",
    "        # cosine matrix (batch_size, h1_timesteps, h2_timesteps)\n",
    "        cos_matrix = self._cosine_similarity(x1, x2)\n",
    "        return cos_matrix\n",
    "\n",
    "    def _mean_attentive_vectors(self, x2, cosine_matrix):\n",
    "        \"\"\"Mean attentive vectors.\n",
    "        Calculate mean attentive vector for the entire sentence by weighted\n",
    "        summing all the contextual embeddings of the entire sentence\n",
    "        # Arguments\n",
    "            x2: sequence vectors, (batch_size, x2_timesteps, embedding_size)\n",
    "            cosine_matrix: cosine similarities matrix of x1 and x2,\n",
    "                           (batch_size, x1_timesteps, x2_timesteps)\n",
    "        # Output shape\n",
    "            (batch_size, x1_timesteps, embedding_size)\n",
    "        \"\"\"\n",
    "        # (batch_size, x1_timesteps, x2_timesteps, 1)\n",
    "        expanded_cosine_matrix = K.expand_dims(cosine_matrix, axis=-1)\n",
    "        # (batch_size, 1, x2_timesteps, embedding_size)\n",
    "        x2 = K.expand_dims(x2, axis=1)\n",
    "        # (batch_size, x1_timesteps, embedding_size)\n",
    "        weighted_sum = K.sum(expanded_cosine_matrix * x2, axis=2)\n",
    "        # (batch_size, x1_timesteps, 1)\n",
    "        sum_cosine = K.expand_dims(K.sum(cosine_matrix, axis=-1) + self.epsilon, axis=-1)\n",
    "        # (batch_size, x1_timesteps, embedding_size)\n",
    "        attentive_vector = weighted_sum / sum_cosine\n",
    "        return attentive_vector\n",
    "\n",
    "    def _max_attentive_vectors(self, x2, cosine_matrix):\n",
    "        \"\"\"Max attentive vectors.\n",
    "        Calculate max attentive vector for the entire sentence by picking\n",
    "        the contextual embedding with the highest cosine similarity\n",
    "        as the attentive vector.\n",
    "        # Arguments\n",
    "            x2: sequence vectors, (batch_size, x2_timesteps, embedding_size)\n",
    "            cosine_matrix: cosine similarities matrix of x1 and x2,\n",
    "                           (batch_size, x1_timesteps, x2_timesteps)\n",
    "        # Output shape\n",
    "            (batch_size, x1_timesteps, embedding_size)\n",
    "        \"\"\"\n",
    "        # (batch_size, x1_timesteps)\n",
    "        max_x2_step = K.argmax(cosine_matrix, axis=-1)\n",
    "\n",
    "        embedding_size = K.int_shape(x2)[-1]\n",
    "        timesteps = K.int_shape(max_x2_step)[-1]\n",
    "        if timesteps is None:\n",
    "            timesteps = K.shape(max_x2_step)[-1]\n",
    "\n",
    "        # collapse time dimension and batch dimension together\n",
    "        # collapse x2 to (batch_size * x2_timestep, embedding_size)\n",
    "        x2 = K.reshape(x2, (-1, embedding_size))\n",
    "        # collapse max_x2_step to (batch_size * h1_timesteps)\n",
    "        max_x2_step = K.reshape(max_x2_step, (-1,))\n",
    "        # (batch_size * x1_timesteps, embedding_size)\n",
    "        max_x2 = K.gather(x2, max_x2_step)\n",
    "        # reshape max_x2, (batch_size, x1_timesteps, embedding_size)\n",
    "        attentive_vector = K.reshape(max_x2, K.stack([-1, timesteps, embedding_size]))\n",
    "        return attentive_vector\n",
    "\n",
    "    def _time_distributed_multiply(self, x, w):\n",
    "        \"\"\"Element-wise multiply vector and weights.\n",
    "        # Arguments\n",
    "            x: sequence of hidden states, (batch_size, ?, embedding_size)\n",
    "            w: weights of one matching strategy of one direction,\n",
    "               (mp_dim, embedding_size)\n",
    "        # Output shape\n",
    "            (?, mp_dim, embedding_size)\n",
    "        \"\"\"\n",
    "        # dimension of vector\n",
    "        n_dim = K.ndim(x)\n",
    "        embedding_size = K.int_shape(x)[-1]\n",
    "        timesteps = K.int_shape(x)[1]\n",
    "        if timesteps is None:\n",
    "            timesteps = K.shape(x)[1]\n",
    "\n",
    "        # collapse time dimension and batch dimension together\n",
    "        x = K.reshape(x, (-1, embedding_size))\n",
    "        # reshape to (?, 1, embedding_size)\n",
    "        x = K.expand_dims(x, axis=1)\n",
    "        # reshape weights to (1, mp_dim, embedding_size)\n",
    "        w = K.expand_dims(w, axis=0)\n",
    "        # element-wise multiply\n",
    "        x = x * w\n",
    "        # reshape to original shape\n",
    "        if n_dim == 3:\n",
    "            x = K.reshape(x, K.stack([-1, timesteps, self.mp_dim, embedding_size]))\n",
    "            x.set_shape([None, None, None, embedding_size])\n",
    "        elif n_dim == 2:\n",
    "            x = K.reshape(x, K.stack([-1, self.mp_dim, embedding_size]))\n",
    "            x.set_shape([None, None, embedding_size])\n",
    "        return x\n",
    "\n",
    "    def _full_matching(self, h1, h2, w):\n",
    "        \"\"\"Full matching operation.\n",
    "        # Arguments\n",
    "            h1: (batch_size, h1_timesteps, embedding_size)\n",
    "            h2: (batch_size, h2_timesteps, embedding_size)\n",
    "            w: weights of one direction, (mp_dim, embedding_size)\n",
    "        # Output shape\n",
    "            (batch_size, h1_timesteps, mp_dim)\n",
    "        \"\"\"\n",
    "        # h2 forward last step hidden vector, (batch_size, embedding_size)\n",
    "        h2_last_state = h2[:, -1, :]\n",
    "        # h1 * weights, (batch_size, h1_timesteps, mp_dim, embedding_size)\n",
    "        h1 = self._time_distributed_multiply(h1, w)\n",
    "        # h2_last_state * weights, (batch_size, mp_dim, embedding_size)\n",
    "        h2 = self._time_distributed_multiply(h2_last_state, w)\n",
    "        # reshape to (batch_size, 1, mp_dim, embedding_size)\n",
    "        h2 = K.expand_dims(h2, axis=1)\n",
    "        # matching vector, (batch_size, h1_timesteps, mp_dim)\n",
    "        matching = self._cosine_similarity(h1, h2)\n",
    "        return matching\n",
    "\n",
    "    def _max_pooling_matching(self, h1, h2, w):\n",
    "        \"\"\"Max pooling matching operation.\n",
    "        # Arguments\n",
    "            h1: (batch_size, h1_timesteps, embedding_size)\n",
    "            h2: (batch_size, h2_timesteps, embedding_size)\n",
    "            w: weights of one direction, (mp_dim, embedding_size)\n",
    "        # Output shape\n",
    "            (batch_size, h1_timesteps, mp_dim)\n",
    "        \"\"\"\n",
    "        # h1 * weights, (batch_size, h1_timesteps, mp_dim, embedding_size)\n",
    "        h1 = self._time_distributed_multiply(h1, w)\n",
    "        # h2 * weights, (batch_size, h2_timesteps, mp_dim, embedding_size)\n",
    "        h2 = self._time_distributed_multiply(h2, w)\n",
    "        # reshape v1 to (batch_size, h1_timesteps, 1, mp_dim, embedding_size)\n",
    "        h1 = K.expand_dims(h1, axis=2)\n",
    "        # reshape v1 to (batch_size, 1, h2_timesteps, mp_dim, embedding_size)\n",
    "        h2 = K.expand_dims(h2, axis=1)\n",
    "        # cosine similarity, (batch_size, h1_timesteps, h2_timesteps, mp_dim)\n",
    "        cos = self._cosine_similarity(h1, h2)\n",
    "        # (batch_size, h1_timesteps, mp_dim)\n",
    "        matching = K.max(cos, axis=2)\n",
    "        return matching\n",
    "\n",
    "    def _attentive_matching(self, h1, h2, cosine_matrix, w):\n",
    "        \"\"\"Attentive matching operation.\n",
    "        # Arguments\n",
    "            h1: (batch_size, h1_timesteps, embedding_size)\n",
    "            h2: (batch_size, h2_timesteps, embedding_size)\n",
    "            cosine_matrix: weights of hidden state h2,\n",
    "                          (batch_size, h1_timesteps, h2_timesteps)\n",
    "            w: weights of one direction, (mp_dim, embedding_size)\n",
    "        # Output shape\n",
    "            (batch_size, h1_timesteps, mp_dim)\n",
    "        \"\"\"\n",
    "        # h1 * weights, (batch_size, h1_timesteps, mp_dim, embedding_size)\n",
    "        h1 = self._time_distributed_multiply(h1, w)\n",
    "        # attentive vector (batch_size, h1_timesteps, embedding_szie)\n",
    "        attentive_vec = self._mean_attentive_vectors(h2, cosine_matrix)\n",
    "        # attentive_vec * weights, (batch_size, h1_timesteps, mp_dim, embedding_size)\n",
    "        attentive_vec = self._time_distributed_multiply(attentive_vec, w)\n",
    "        # matching vector, (batch_size, h1_timesteps, mp_dim)\n",
    "        matching = self._cosine_similarity(h1, attentive_vec)\n",
    "        return matching\n",
    "\n",
    "    def _max_attentive_matching(self, h1, h2, cosine_matrix, w):\n",
    "        \"\"\"Max attentive matching operation.\n",
    "        # Arguments\n",
    "            h1: (batch_size, h1_timesteps, embedding_size)\n",
    "            h2: (batch_size, h2_timesteps, embedding_size)\n",
    "            cosine_matrix: weights of hidden state h2,\n",
    "                          (batch_size, h1_timesteps, h2_timesteps)\n",
    "            w: weights of one direction, (mp_dim, embedding_size)\n",
    "        # Output shape\n",
    "            (batch_size, h1_timesteps, mp_dim)\n",
    "        \"\"\"\n",
    "        # h1 * weights, (batch_size, h1_timesteps, mp_dim, embedding_size)\n",
    "        h1 = self._time_distributed_multiply(h1, w)\n",
    "        # max attentive vector (batch_size, h1_timesteps, embedding_szie)\n",
    "        max_attentive_vec = self._max_attentive_vectors(h2, cosine_matrix)\n",
    "        # max_attentive_vec * weights, (batch_size, h1_timesteps, mp_dim, embedding_size)\n",
    "        max_attentive_vec = self._time_distributed_multiply(max_attentive_vec, w)\n",
    "        # matching vector, (batch_size, h1_timesteps, mp_dim)\n",
    "        matching = self._cosine_similarity(h1, max_attentive_vec)\n",
    "        return matching"
   ]
  },
  {
   "cell_type": "markdown",
   "metadata": {},
   "source": [
    "### Entire model"
   ]
  },
  {
   "cell_type": "code",
   "execution_count": 16,
   "metadata": {},
   "outputs": [
    {
     "name": "stdout",
     "output_type": "stream",
     "text": [
      "__________________________________________________________________________________________________\n",
      "Layer (type)                    Output Shape         Param #     Connected to                     \n",
      "==================================================================================================\n",
      "input_1 (InputLayer)            (None, 40)           0                                            \n",
      "__________________________________________________________________________________________________\n",
      "input_2 (InputLayer)            (None, 40)           0                                            \n",
      "__________________________________________________________________________________________________\n",
      "embedding_1 (Embedding)         (None, 40, 300)      6267300     input_1[0][0]                    \n",
      "                                                                 input_2[0][0]                    \n",
      "__________________________________________________________________________________________________\n",
      "bidirectional_1 (Bidirectional) (None, 40, 256)      439296      embedding_1[0][0]                \n",
      "                                                                 embedding_1[1][0]                \n",
      "__________________________________________________________________________________________________\n",
      "multi_perspective_1 (MultiPersp (None, 40, 40)       5120        bidirectional_1[0][0]            \n",
      "                                                                 bidirectional_1[1][0]            \n",
      "                                                                 bidirectional_1[1][0]            \n",
      "                                                                 bidirectional_1[0][0]            \n",
      "__________________________________________________________________________________________________\n",
      "bidirectional_2 (Bidirectional) (None, 256)          173056      multi_perspective_1[0][0]        \n",
      "                                                                 multi_perspective_1[1][0]        \n",
      "__________________________________________________________________________________________________\n",
      "concatenate_1 (Concatenate)     (None, 512)          0           bidirectional_2[0][0]            \n",
      "                                                                 bidirectional_2[1][0]            \n",
      "__________________________________________________________________________________________________\n",
      "dense_1 (Dense)                 (None, 200)          102600      concatenate_1[0][0]              \n",
      "__________________________________________________________________________________________________\n",
      "dropout_1 (Dropout)             (None, 200)          0           dense_1[0][0]                    \n",
      "__________________________________________________________________________________________________\n",
      "batch_normalization_1 (BatchNor (None, 200)          800         dropout_1[0][0]                  \n",
      "__________________________________________________________________________________________________\n",
      "dense_2 (Dense)                 (None, 200)          40200       batch_normalization_1[0][0]      \n",
      "__________________________________________________________________________________________________\n",
      "dropout_2 (Dropout)             (None, 200)          0           dense_2[0][0]                    \n",
      "__________________________________________________________________________________________________\n",
      "batch_normalization_2 (BatchNor (None, 200)          800         dropout_2[0][0]                  \n",
      "__________________________________________________________________________________________________\n",
      "dense_3 (Dense)                 (None, 1)            201         batch_normalization_2[0][0]      \n",
      "==================================================================================================\n",
      "Total params: 7,029,373\n",
      "Trainable params: 761,273\n",
      "Non-trainable params: 6,268,100\n",
      "__________________________________________________________________________________________________\n"
     ]
    }
   ],
   "source": [
    "inp1 = Input(shape=(maxlen,))\n",
    "inp2 = Input(shape=(maxlen,))\n",
    "\n",
    "# Word representation Layer\n",
    "\n",
    "embed = Embedding(max_features+1, embed_size, weights=[embedding_matrix], trainable = False, mask_zero=False)\n",
    "x1 = embed(inp1)\n",
    "x2 = embed(inp2)\n",
    "\n",
    "# Context representation layer\n",
    "bilstm1 = Bidirectional(LSTM(num_rnn_units, return_sequences=True, dropout=drop_prob, recurrent_dropout=drop_prob))\n",
    "x1 = bilstm1(x1) \n",
    "x2 = bilstm1(x2)\n",
    "\n",
    "# Matching layer\n",
    "match = MultiPerspective(mp)\n",
    "m1 = match([x1,x2])\n",
    "m2 = match([x2,x1])\n",
    "\n",
    "# Aggregation layer\n",
    "bilstm2 = Bidirectional(LSTM(num_rnn_units, return_sequences=False, dropout=drop_prob, recurrent_dropout=drop_prob))\n",
    "x1 = bilstm2(m1) \n",
    "x2 = bilstm2(m2)\n",
    "conc = concatenate([x1,x2])\n",
    "\n",
    "# Prediction layer\n",
    "x = Dense(num_hidden_units, activation='relu')(conc)\n",
    "x = Dropout(drop_prob)(x)\n",
    "x = BatchNormalization()(x)\n",
    "x = Dense(num_hidden_units, activation='relu')(x)\n",
    "x = Dropout(drop_prob)(x)\n",
    "x = BatchNormalization()(x)\n",
    "x = Dense(1, activation=\"sigmoid\")(x)\n",
    "\n",
    "model = Model(inputs=[inp1, inp2], outputs=x)\n",
    "adam = optimizers.Adam(clipnorm=max_norm)\n",
    "model.compile(loss='binary_crossentropy', optimizer=adam, metrics=['accuracy'])\n",
    "model.summary()\n",
    "plot_model(model, to_file='model4.png', show_shapes=True)"
   ]
  },
  {
   "cell_type": "markdown",
   "metadata": {},
   "source": [
    "## Train the model"
   ]
  },
  {
   "cell_type": "code",
   "execution_count": 17,
   "metadata": {},
   "outputs": [
    {
     "name": "stderr",
     "output_type": "stream",
     "text": [
      "C:\\Users\\SJ\\AppData\\Local\\conda\\conda\\envs\\deep\\lib\\site-packages\\tensorflow\\python\\ops\\gradients_impl.py:100: UserWarning: Converting sparse IndexedSlices to a dense Tensor of unknown shape. This may consume a large amount of memory.\n",
      "  \"Converting sparse IndexedSlices to a dense Tensor of unknown shape. \"\n"
     ]
    },
    {
     "name": "stdout",
     "output_type": "stream",
     "text": [
      "Train on 216228 samples, validate on 38158 samples\n",
      "Epoch 1/15\n",
      "216228/216228 [==============================] - 984s 5ms/step - loss: 0.3715 - acc: 0.8353 - val_loss: 0.3039 - val_acc: 0.8666\n",
      "Epoch 2/15\n",
      "216228/216228 [==============================] - 966s 4ms/step - loss: 0.2904 - acc: 0.8754 - val_loss: 0.2901 - val_acc: 0.8747\n",
      "Epoch 3/15\n",
      "216228/216228 [==============================] - 3623s 17ms/step - loss: 0.2666 - acc: 0.8863 - val_loss: 0.2709 - val_acc: 0.8853\n",
      "Epoch 4/15\n",
      "216228/216228 [==============================] - 1038s 5ms/step - loss: 0.2499 - acc: 0.8937 - val_loss: 0.2547 - val_acc: 0.8937\n",
      "Epoch 5/15\n",
      "216228/216228 [==============================] - 1065s 5ms/step - loss: 0.2396 - acc: 0.8978 - val_loss: 0.2450 - val_acc: 0.8975\n",
      "Epoch 6/15\n",
      "216228/216228 [==============================] - 1069s 5ms/step - loss: 0.2296 - acc: 0.9026 - val_loss: 0.2413 - val_acc: 0.8985\n",
      "Epoch 7/15\n",
      "216228/216228 [==============================] - 1065s 5ms/step - loss: 0.2230 - acc: 0.9064 - val_loss: 0.2386 - val_acc: 0.8999\n",
      "Epoch 8/15\n",
      "216228/216228 [==============================] - 1064s 5ms/step - loss: 0.2164 - acc: 0.9088 - val_loss: 0.2387 - val_acc: 0.9011\n",
      "Epoch 9/15\n",
      "216228/216228 [==============================] - 1063s 5ms/step - loss: 0.1988 - acc: 0.9167 - val_loss: 0.2405 - val_acc: 0.9042\n"
     ]
    }
   ],
   "source": [
    "cp = ModelCheckpoint(filepath=\"my_model4.h5\", save_best_only=True)\n",
    "es = EarlyStopping(patience=2)\n",
    "rp = ReduceLROnPlateau(patience=0)\n",
    "hist = model.fit([X1_train, X2_train], y_tra, batch_size = 128, epochs=15, validation_data=([X1_val, X2_val], y_val), callbacks=[cp, es, rp])"
   ]
  },
  {
   "cell_type": "markdown",
   "metadata": {},
   "source": [
    "## check the loss curve"
   ]
  },
  {
   "cell_type": "code",
   "execution_count": 20,
   "metadata": {},
   "outputs": [
    {
     "name": "stdout",
     "output_type": "stream",
     "text": [
      "{'val_loss': [0.30392738577704603, 0.29011233089804817, 0.2709317498408534, 0.2547201967425576, 0.2449715483725349, 0.24134434528511783, 0.23857451016013556, 0.23865854552697008, 0.24045034307835955], 'val_acc': [0.8665810577136752, 0.8746527595848425, 0.8853189370574563, 0.893731327643965, 0.8975051103369783, 0.8985009696462494, 0.8998899313318722, 0.9010954452601924, 0.9041878505100263], 'loss': [0.3715042048168625, 0.2904067356957777, 0.2666233791473966, 0.2499384963589825, 0.23957287820098222, 0.22964877146543003, 0.22302685592248495, 0.21642818976819614, 0.19883299607368074], 'acc': [0.8353127254520522, 0.8753537932193722, 0.8862913221262522, 0.8936677951040641, 0.8977976950278264, 0.9026444308829277, 0.9064228499535748, 0.9088415931287638, 0.9167082893971251], 'lr': [0.001, 0.001, 0.001, 0.001, 0.001, 0.001, 0.001, 0.001, 0.000100000005]}\n"
     ]
    },
    {
     "data": {
      "text/plain": [
       "[<matplotlib.lines.Line2D at 0x1c39ef6ac88>]"
      ]
     },
     "execution_count": 20,
     "metadata": {},
     "output_type": "execute_result"
    },
    {
     "data": {
      "image/png": "[encoded data removed]",
      "text/plain": [
       "<matplotlib.figure.Figure at 0x1c1dbe98cc0>"
      ]
     },
     "metadata": {},
     "output_type": "display_data"
    }
   ],
   "source": [
    "print (hist.history)\n",
    "from matplotlib import pyplot as plt\n",
    "%matplotlib inline\n",
    "plt.figure(1)\n",
    "plt.plot (hist.history['loss'])\n",
    "plt.plot (hist.history['val_loss'])"
   ]
  },
  {
   "cell_type": "markdown",
   "metadata": {},
   "source": [
    "## Load the model"
   ]
  },
  {
   "cell_type": "code",
   "execution_count": 23,
   "metadata": {},
   "outputs": [
    {
     "ename": "ValueError",
     "evalue": "Unknown layer: MultiPerspective",
     "output_type": "error",
     "traceback": [
      "\u001b[1;31m---------------------------------------------------------------------------\u001b[0m",
      "\u001b[1;31mValueError\u001b[0m                                Traceback (most recent call last)",
      "\u001b[1;32m<ipython-input-23-8c9be7874333>\u001b[0m in \u001b[0;36m<module>\u001b[1;34m()\u001b[0m\n\u001b[0;32m      1\u001b[0m \u001b[1;32mfrom\u001b[0m \u001b[0mkeras\u001b[0m\u001b[1;33m.\u001b[0m\u001b[0mmodels\u001b[0m \u001b[1;32mimport\u001b[0m \u001b[0mload_model\u001b[0m\u001b[1;33m\u001b[0m\u001b[0m\n\u001b[1;32m----> 2\u001b[1;33m \u001b[0mmodel\u001b[0m \u001b[1;33m=\u001b[0m \u001b[0mload_model\u001b[0m\u001b[1;33m(\u001b[0m\u001b[1;34m'my_model4.h5'\u001b[0m\u001b[1;33m)\u001b[0m\u001b[1;33m\u001b[0m\u001b[0m\n\u001b[0m",
      "\u001b[1;32m~\\AppData\\Local\\conda\\conda\\envs\\deep\\lib\\site-packages\\keras\\engine\\saving.py\u001b[0m in \u001b[0;36mload_model\u001b[1;34m(filepath, custom_objects, compile)\u001b[0m\n\u001b[0;32m    259\u001b[0m             \u001b[1;32mraise\u001b[0m \u001b[0mValueError\u001b[0m\u001b[1;33m(\u001b[0m\u001b[1;34m'No model found in config file.'\u001b[0m\u001b[1;33m)\u001b[0m\u001b[1;33m\u001b[0m\u001b[0m\n\u001b[0;32m    260\u001b[0m         \u001b[0mmodel_config\u001b[0m \u001b[1;33m=\u001b[0m \u001b[0mjson\u001b[0m\u001b[1;33m.\u001b[0m\u001b[0mloads\u001b[0m\u001b[1;33m(\u001b[0m\u001b[0mmodel_config\u001b[0m\u001b[1;33m.\u001b[0m\u001b[0mdecode\u001b[0m\u001b[1;33m(\u001b[0m\u001b[1;34m'utf-8'\u001b[0m\u001b[1;33m)\u001b[0m\u001b[1;33m)\u001b[0m\u001b[1;33m\u001b[0m\u001b[0m\n\u001b[1;32m--> 261\u001b[1;33m         \u001b[0mmodel\u001b[0m \u001b[1;33m=\u001b[0m \u001b[0mmodel_from_config\u001b[0m\u001b[1;33m(\u001b[0m\u001b[0mmodel_config\u001b[0m\u001b[1;33m,\u001b[0m \u001b[0mcustom_objects\u001b[0m\u001b[1;33m=\u001b[0m\u001b[0mcustom_objects\u001b[0m\u001b[1;33m)\u001b[0m\u001b[1;33m\u001b[0m\u001b[0m\n\u001b[0m\u001b[0;32m    262\u001b[0m \u001b[1;33m\u001b[0m\u001b[0m\n\u001b[0;32m    263\u001b[0m         \u001b[1;31m# set weights\u001b[0m\u001b[1;33m\u001b[0m\u001b[1;33m\u001b[0m\u001b[0m\n",
      "\u001b[1;32m~\\AppData\\Local\\conda\\conda\\envs\\deep\\lib\\site-packages\\keras\\engine\\saving.py\u001b[0m in \u001b[0;36mmodel_from_config\u001b[1;34m(config, custom_objects)\u001b[0m\n\u001b[0;32m    333\u001b[0m                         '`Sequential.from_config(config)`?')\n\u001b[0;32m    334\u001b[0m     \u001b[1;32mfrom\u001b[0m \u001b[1;33m.\u001b[0m\u001b[1;33m.\u001b[0m\u001b[0mlayers\u001b[0m \u001b[1;32mimport\u001b[0m \u001b[0mdeserialize\u001b[0m\u001b[1;33m\u001b[0m\u001b[0m\n\u001b[1;32m--> 335\u001b[1;33m     \u001b[1;32mreturn\u001b[0m \u001b[0mdeserialize\u001b[0m\u001b[1;33m(\u001b[0m\u001b[0mconfig\u001b[0m\u001b[1;33m,\u001b[0m \u001b[0mcustom_objects\u001b[0m\u001b[1;33m=\u001b[0m\u001b[0mcustom_objects\u001b[0m\u001b[1;33m)\u001b[0m\u001b[1;33m\u001b[0m\u001b[0m\n\u001b[0m\u001b[0;32m    336\u001b[0m \u001b[1;33m\u001b[0m\u001b[0m\n\u001b[0;32m    337\u001b[0m \u001b[1;33m\u001b[0m\u001b[0m\n",
      "\u001b[1;32m~\\AppData\\Local\\conda\\conda\\envs\\deep\\lib\\site-packages\\keras\\layers\\__init__.py\u001b[0m in \u001b[0;36mdeserialize\u001b[1;34m(config, custom_objects)\u001b[0m\n\u001b[0;32m     53\u001b[0m                                     \u001b[0mmodule_objects\u001b[0m\u001b[1;33m=\u001b[0m\u001b[0mglobs\u001b[0m\u001b[1;33m,\u001b[0m\u001b[1;33m\u001b[0m\u001b[0m\n\u001b[0;32m     54\u001b[0m                                     \u001b[0mcustom_objects\u001b[0m\u001b[1;33m=\u001b[0m\u001b[0mcustom_objects\u001b[0m\u001b[1;33m,\u001b[0m\u001b[1;33m\u001b[0m\u001b[0m\n\u001b[1;32m---> 55\u001b[1;33m                                     printable_module_name='layer')\n\u001b[0m",
      "\u001b[1;32m~\\AppData\\Local\\conda\\conda\\envs\\deep\\lib\\site-packages\\keras\\utils\\generic_utils.py\u001b[0m in \u001b[0;36mdeserialize_keras_object\u001b[1;34m(identifier, module_objects, custom_objects, printable_module_name)\u001b[0m\n\u001b[0;32m    143\u001b[0m                     \u001b[0mconfig\u001b[0m\u001b[1;33m[\u001b[0m\u001b[1;34m'config'\u001b[0m\u001b[1;33m]\u001b[0m\u001b[1;33m,\u001b[0m\u001b[1;33m\u001b[0m\u001b[0m\n\u001b[0;32m    144\u001b[0m                     custom_objects=dict(list(_GLOBAL_CUSTOM_OBJECTS.items()) +\n\u001b[1;32m--> 145\u001b[1;33m                                         list(custom_objects.items())))\n\u001b[0m\u001b[0;32m    146\u001b[0m             \u001b[1;32mwith\u001b[0m \u001b[0mCustomObjectScope\u001b[0m\u001b[1;33m(\u001b[0m\u001b[0mcustom_objects\u001b[0m\u001b[1;33m)\u001b[0m\u001b[1;33m:\u001b[0m\u001b[1;33m\u001b[0m\u001b[0m\n\u001b[0;32m    147\u001b[0m                 \u001b[1;32mreturn\u001b[0m \u001b[0mcls\u001b[0m\u001b[1;33m.\u001b[0m\u001b[0mfrom_config\u001b[0m\u001b[1;33m(\u001b[0m\u001b[0mconfig\u001b[0m\u001b[1;33m[\u001b[0m\u001b[1;34m'config'\u001b[0m\u001b[1;33m]\u001b[0m\u001b[1;33m)\u001b[0m\u001b[1;33m\u001b[0m\u001b[0m\n",
      "\u001b[1;32m~\\AppData\\Local\\conda\\conda\\envs\\deep\\lib\\site-packages\\keras\\engine\\network.py\u001b[0m in \u001b[0;36mfrom_config\u001b[1;34m(cls, config, custom_objects)\u001b[0m\n\u001b[0;32m   1034\u001b[0m         \u001b[1;31m# First, we create all layers and enqueue nodes to be processed\u001b[0m\u001b[1;33m\u001b[0m\u001b[1;33m\u001b[0m\u001b[0m\n\u001b[0;32m   1035\u001b[0m         \u001b[1;32mfor\u001b[0m \u001b[0mlayer_data\u001b[0m \u001b[1;32min\u001b[0m \u001b[0mconfig\u001b[0m\u001b[1;33m[\u001b[0m\u001b[1;34m'layers'\u001b[0m\u001b[1;33m]\u001b[0m\u001b[1;33m:\u001b[0m\u001b[1;33m\u001b[0m\u001b[0m\n\u001b[1;32m-> 1036\u001b[1;33m             \u001b[0mprocess_layer\u001b[0m\u001b[1;33m(\u001b[0m\u001b[0mlayer_data\u001b[0m\u001b[1;33m)\u001b[0m\u001b[1;33m\u001b[0m\u001b[0m\n\u001b[0m\u001b[0;32m   1037\u001b[0m         \u001b[1;31m# Then we process nodes in order of layer depth.\u001b[0m\u001b[1;33m\u001b[0m\u001b[1;33m\u001b[0m\u001b[0m\n\u001b[0;32m   1038\u001b[0m         \u001b[1;31m# Nodes that cannot yet be processed (if the inbound node\u001b[0m\u001b[1;33m\u001b[0m\u001b[1;33m\u001b[0m\u001b[0m\n",
      "\u001b[1;32m~\\AppData\\Local\\conda\\conda\\envs\\deep\\lib\\site-packages\\keras\\engine\\network.py\u001b[0m in \u001b[0;36mprocess_layer\u001b[1;34m(layer_data)\u001b[0m\n\u001b[0;32m   1020\u001b[0m \u001b[1;33m\u001b[0m\u001b[0m\n\u001b[0;32m   1021\u001b[0m             layer = deserialize_layer(layer_data,\n\u001b[1;32m-> 1022\u001b[1;33m                                       custom_objects=custom_objects)\n\u001b[0m\u001b[0;32m   1023\u001b[0m             \u001b[0mcreated_layers\u001b[0m\u001b[1;33m[\u001b[0m\u001b[0mlayer_name\u001b[0m\u001b[1;33m]\u001b[0m \u001b[1;33m=\u001b[0m \u001b[0mlayer\u001b[0m\u001b[1;33m\u001b[0m\u001b[0m\n\u001b[0;32m   1024\u001b[0m \u001b[1;33m\u001b[0m\u001b[0m\n",
      "\u001b[1;32m~\\AppData\\Local\\conda\\conda\\envs\\deep\\lib\\site-packages\\keras\\layers\\__init__.py\u001b[0m in \u001b[0;36mdeserialize\u001b[1;34m(config, custom_objects)\u001b[0m\n\u001b[0;32m     53\u001b[0m                                     \u001b[0mmodule_objects\u001b[0m\u001b[1;33m=\u001b[0m\u001b[0mglobs\u001b[0m\u001b[1;33m,\u001b[0m\u001b[1;33m\u001b[0m\u001b[0m\n\u001b[0;32m     54\u001b[0m                                     \u001b[0mcustom_objects\u001b[0m\u001b[1;33m=\u001b[0m\u001b[0mcustom_objects\u001b[0m\u001b[1;33m,\u001b[0m\u001b[1;33m\u001b[0m\u001b[0m\n\u001b[1;32m---> 55\u001b[1;33m                                     printable_module_name='layer')\n\u001b[0m",
      "\u001b[1;32m~\\AppData\\Local\\conda\\conda\\envs\\deep\\lib\\site-packages\\keras\\utils\\generic_utils.py\u001b[0m in \u001b[0;36mdeserialize_keras_object\u001b[1;34m(identifier, module_objects, custom_objects, printable_module_name)\u001b[0m\n\u001b[0;32m    136\u001b[0m             \u001b[1;32mif\u001b[0m \u001b[0mcls\u001b[0m \u001b[1;32mis\u001b[0m \u001b[1;32mNone\u001b[0m\u001b[1;33m:\u001b[0m\u001b[1;33m\u001b[0m\u001b[0m\n\u001b[0;32m    137\u001b[0m                 raise ValueError('Unknown ' + printable_module_name +\n\u001b[1;32m--> 138\u001b[1;33m                                  ': ' + class_name)\n\u001b[0m\u001b[0;32m    139\u001b[0m         \u001b[1;32mif\u001b[0m \u001b[0mhasattr\u001b[0m\u001b[1;33m(\u001b[0m\u001b[0mcls\u001b[0m\u001b[1;33m,\u001b[0m \u001b[1;34m'from_config'\u001b[0m\u001b[1;33m)\u001b[0m\u001b[1;33m:\u001b[0m\u001b[1;33m\u001b[0m\u001b[0m\n\u001b[0;32m    140\u001b[0m             \u001b[0mcustom_objects\u001b[0m \u001b[1;33m=\u001b[0m \u001b[0mcustom_objects\u001b[0m \u001b[1;32mor\u001b[0m \u001b[1;33m{\u001b[0m\u001b[1;33m}\u001b[0m\u001b[1;33m\u001b[0m\u001b[0m\n",
      "\u001b[1;31mValueError\u001b[0m: Unknown layer: MultiPerspective"
     ]
    }
   ],
   "source": [
    "from keras.models import load_model\n",
    "model = load_model('my_model4.h5')"
   ]
  },
  {
   "cell_type": "markdown",
   "metadata": {},
   "source": [
    "## predict the test data"
   ]
  },
  {
   "cell_type": "code",
   "execution_count": 25,
   "metadata": {},
   "outputs": [],
   "source": [
    "y_pred = model.predict([X1_test, X2_test], batch_size=256)"
   ]
  },
  {
   "cell_type": "code",
   "execution_count": 26,
   "metadata": {},
   "outputs": [],
   "source": [
    "# To make a submission file \n",
    "def make_submission(predict_prob):\n",
    "    with open('sub4.csv', 'w') as file:\n",
    "        file.write(str('y_pre') + '\\n')\n",
    "        for line in predict_prob:\n",
    "            #line = np.clip(line, 0.005, 0.995)\n",
    "            file.write(str(line[0]) + '\\n')\n",
    "    file.close()\n",
    "    \n",
    "make_submission(y_pred)"
   ]
  },
  {
   "cell_type": "code",
   "execution_count": null,
   "metadata": {},
   "outputs": [],
   "source": []
  }
 ],
 "metadata": {
  "kernelspec": {
   "display_name": "Python 3",
   "language": "python",
   "name": "python3"
  },
  "language_info": {
   "codemirror_mode": {
    "name": "ipython",
    "version": 3
   },
   "file_extension": ".py",
   "mimetype": "text/x-python",
   "name": "python",
   "nbconvert_exporter": "python",
   "pygments_lexer": "ipython3",
   "version": "3.6.6"
  }
 },
 "nbformat": 4,
 "nbformat_minor": 2
}
