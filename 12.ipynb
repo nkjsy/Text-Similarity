{
 "cells": [
  {
   "cell_type": "markdown",
   "metadata": {},
   "source": [
    "## Import packages"
   ]
  },
  {
   "cell_type": "code",
   "execution_count": 1,
   "metadata": {},
   "outputs": [],
   "source": [
    "import numpy as np\n",
    "import pandas as pd\n",
    "from matplotlib import pyplot as plt"
   ]
  },
  {
   "cell_type": "code",
   "execution_count": 2,
   "metadata": {},
   "outputs": [],
   "source": [
    "import os\n",
    "os.environ[\"PATH\"] += os.pathsep + 'C:/Program Files (x86)/Graphviz2.38/bin/'  # 安装graphviz的路径，用于模型可视化"
   ]
  },
  {
   "cell_type": "code",
   "execution_count": 3,
   "metadata": {},
   "outputs": [
    {
     "name": "stderr",
     "output_type": "stream",
     "text": [
      "Using TensorFlow backend.\n"
     ]
    }
   ],
   "source": [
    "from keras.preprocessing.text import Tokenizer, text_to_word_sequence\n",
    "from keras.preprocessing.sequence import pad_sequences\n",
    "from keras.models import Sequential, Model\n",
    "from keras.layers.core import Dense, Activation, Dropout, Reshape, Flatten\n",
    "from keras.layers.embeddings import Embedding\n",
    "from keras.layers.normalization import BatchNormalization\n",
    "from keras.layers.merge import concatenate, Concatenate\n",
    "from keras.layers import Conv1D, GlobalMaxPooling1D, GlobalAveragePooling1D, Input, SpatialDropout1D, Bidirectional\n",
    "from keras.layers.recurrent import LSTM, GRU\n",
    "from keras import backend as K\n",
    "from keras.preprocessing import sequence, text\n",
    "from keras.callbacks import ModelCheckpoint, EarlyStopping, ReduceLROnPlateau\n",
    "from keras.utils import plot_model\n",
    "from keras import optimizers\n",
    "from sklearn.model_selection import train_test_split\n",
    "from sklearn.metrics import log_loss"
   ]
  },
  {
   "cell_type": "markdown",
   "metadata": {},
   "source": [
    "## Hyper parameter setting"
   ]
  },
  {
   "cell_type": "code",
   "execution_count": 4,
   "metadata": {},
   "outputs": [],
   "source": [
    "token = 'words' # based on words or chars\n",
    "embed_size = 300 # how big is each word vector\n",
    "max_features = 20885 # how many unique words to use (i.e num rows in embedding vector)\n",
    "maxlen = 15 # max number of words in a comment to use\n",
    "num_rnn_units = 128\n",
    "num_hidden_units = 300\n",
    "drop_prob = 0.2\n",
    "max_norm = 5.0\n",
    "filter_sizes = [1,2,3,5]\n",
    "num_filters = 128"
   ]
  },
  {
   "cell_type": "markdown",
   "metadata": {},
   "source": [
    "## File path"
   ]
  },
  {
   "cell_type": "code",
   "execution_count": 5,
   "metadata": {},
   "outputs": [],
   "source": [
    "TRAIN_PATH = './train.csv'\n",
    "TEST_PATH = './test.csv'\n",
    "QUESTION_PATH = './q_no_stopwords.csv'\n",
    "embed_files = {'words': './word_embed.txt', 'chars': './char_embed.txt'}"
   ]
  },
  {
   "cell_type": "markdown",
   "metadata": {},
   "source": [
    "## Some helper function"
   ]
  },
  {
   "cell_type": "code",
   "execution_count": 6,
   "metadata": {},
   "outputs": [],
   "source": [
    "# Get question id from a list. Remove the Q\n",
    "def get_ids(qids):\n",
    "    ids = []\n",
    "    for t_ in qids:\n",
    "        ids.append(int(t_[1:]))\n",
    "    return np.asarray(ids)\n",
    "\n",
    "# Get the text\n",
    "def get_texts(q_list, question_path=QUESTION_PATH):\n",
    "    qes = pd.read_csv(question_path)\n",
    "    ids = get_ids(q_list)\n",
    "    all_tokens = qes[token]\n",
    "    texts = [all_tokens[t] for t in ids]\n",
    "    return texts"
   ]
  },
  {
   "cell_type": "markdown",
   "metadata": {},
   "source": [
    "## Read the text"
   ]
  },
  {
   "cell_type": "markdown",
   "metadata": {},
   "source": [
    "#### Train data\n",
    "split some data for validation"
   ]
  },
  {
   "cell_type": "code",
   "execution_count": 7,
   "metadata": {},
   "outputs": [
    {
     "name": "stderr",
     "output_type": "stream",
     "text": [
      "C:\\Users\\SJ\\AppData\\Local\\conda\\conda\\envs\\deep\\lib\\site-packages\\sklearn\\model_selection\\_split.py:2026: FutureWarning: From version 0.21, test_size will always complement train_size unless both are specified.\n",
      "  FutureWarning)\n"
     ]
    }
   ],
   "source": [
    "train = pd.read_csv(TRAIN_PATH)\n",
    "list_train = list(zip(train['q1'], train['q2']))\n",
    "label_train = train['label']\n",
    "#print(len(list_train), len(label_train))\n",
    "\n",
    "X_tra, X_val, y_tra, y_val = train_test_split(list_train, label_train, train_size=0.85, random_state=12, shuffle=True)\n",
    "\n",
    "# get the text list of question 1 and 2\n",
    "q1_train = [i[0] for i in X_tra]\n",
    "text1_train = get_texts(q1_train)\n",
    "q2_train = [i[1] for i in X_tra]\n",
    "text2_train = get_texts(q2_train)\n",
    "q1_val = [i[0] for i in X_val]\n",
    "text1_val = get_texts(q1_val)\n",
    "q2_val = [i[1] for i in X_val]\n",
    "text2_val = get_texts(q2_val)"
   ]
  },
  {
   "cell_type": "markdown",
   "metadata": {},
   "source": [
    "#### Test data"
   ]
  },
  {
   "cell_type": "code",
   "execution_count": 8,
   "metadata": {},
   "outputs": [],
   "source": [
    "test = pd.read_csv(TEST_PATH)\n",
    "list_test = list(zip(test['q1'], test['q2']))\n",
    "\n",
    "# get the text list of question 1 and 2\n",
    "q1_test = [i[0] for i in list_test]\n",
    "text1_test = get_texts(q1_test)\n",
    "q2_test = [i[1] for i in list_test]\n",
    "text2_test = get_texts(q2_test)"
   ]
  },
  {
   "cell_type": "markdown",
   "metadata": {},
   "source": [
    "## Tokenize"
   ]
  },
  {
   "cell_type": "code",
   "execution_count": 9,
   "metadata": {},
   "outputs": [],
   "source": [
    "tokenizer = Tokenizer(num_words=max_features, lower=False) # Don't lower the W or L!!!\n",
    "tokenizer.fit_on_texts(pd.read_csv(QUESTION_PATH)[token])\n",
    "\n",
    "# train set\n",
    "tokenized1_train = tokenizer.texts_to_sequences(text1_train)\n",
    "tokenized2_train = tokenizer.texts_to_sequences(text2_train)\n",
    "X1_train = pad_sequences(tokenized1_train, maxlen=maxlen)\n",
    "X2_train = pad_sequences(tokenized2_train, maxlen=maxlen)\n",
    "\n",
    "# validation set\n",
    "tokenized1_val = tokenizer.texts_to_sequences(text1_val)\n",
    "tokenized2_val = tokenizer.texts_to_sequences(text2_val)\n",
    "X1_val = pad_sequences(tokenized1_val, maxlen=maxlen)\n",
    "X2_val = pad_sequences(tokenized2_val, maxlen=maxlen)\n",
    "\n",
    "# test set\n",
    "tokenized1_test = tokenizer.texts_to_sequences(text1_test)\n",
    "tokenized2_test = tokenizer.texts_to_sequences(text2_test)\n",
    "X1_test = pad_sequences(tokenized1_test, maxlen=maxlen)\n",
    "X2_test = pad_sequences(tokenized2_test, maxlen=maxlen)"
   ]
  },
  {
   "cell_type": "markdown",
   "metadata": {},
   "source": [
    "## Prepare the pretrained word embedding"
   ]
  },
  {
   "cell_type": "code",
   "execution_count": 10,
   "metadata": {},
   "outputs": [
    {
     "name": "stdout",
     "output_type": "stream",
     "text": [
      "20891\n"
     ]
    }
   ],
   "source": [
    "def get_coefs(line): return line[0], np.asarray(line[1:], dtype='float32')\n",
    "embed_file = embed_files[token]\n",
    "embeddings_index = dict(get_coefs(o.strip().split()) for o in open(embed_file, encoding='utf-8'))\n",
    "print (len(embeddings_index.items()))\n",
    "#print (list(embeddings_index.items())[20890])"
   ]
  },
  {
   "cell_type": "code",
   "execution_count": 11,
   "metadata": {},
   "outputs": [
    {
     "data": {
      "text/plain": [
       "(0.015683081, 1.1956546)"
      ]
     },
     "execution_count": 11,
     "metadata": {},
     "output_type": "execute_result"
    }
   ],
   "source": [
    "all_embs = np.hstack(embeddings_index.values())\n",
    "emb_mean,emb_std = all_embs.mean(), all_embs.std()\n",
    "emb_mean,emb_std"
   ]
  },
  {
   "cell_type": "code",
   "execution_count": 12,
   "metadata": {},
   "outputs": [],
   "source": [
    "word_index = tokenizer.word_index\n",
    "embedding_matrix = np.random.normal(emb_mean, emb_std, (max_features+1, embed_size))\n",
    "\n",
    "for word, i in word_index.items():\n",
    "    if i > max_features: break\n",
    "    embedding_vector = embeddings_index.get(word)\n",
    "    #print (i, word, len(embedding_vector))\n",
    "    if embedding_vector is not None: embedding_matrix[i] = embedding_vector"
   ]
  },
  {
   "cell_type": "code",
   "execution_count": 13,
   "metadata": {},
   "outputs": [],
   "source": [
    "embedding_matrix = np.asarray(embedding_matrix, dtype='float32')"
   ]
  },
  {
   "cell_type": "markdown",
   "metadata": {},
   "source": [
    "## Build the model"
   ]
  },
  {
   "cell_type": "code",
   "execution_count": 14,
   "metadata": {},
   "outputs": [],
   "source": [
    "from keras import backend as K\n",
    "K.clear_session()"
   ]
  },
  {
   "cell_type": "code",
   "execution_count": 15,
   "metadata": {},
   "outputs": [
    {
     "name": "stdout",
     "output_type": "stream",
     "text": [
      "__________________________________________________________________________________________________\n",
      "Layer (type)                    Output Shape         Param #     Connected to                     \n",
      "==================================================================================================\n",
      "input_1 (InputLayer)            (None, 15)           0                                            \n",
      "__________________________________________________________________________________________________\n",
      "input_2 (InputLayer)            (None, 15)           0                                            \n",
      "__________________________________________________________________________________________________\n",
      "model_1 (Model)                 (None, 1024)         7361736     input_1[0][0]                    \n",
      "                                                                 input_2[0][0]                    \n",
      "__________________________________________________________________________________________________\n",
      "concatenate_2 (Concatenate)     (None, 2048)         0           model_1[1][0]                    \n",
      "                                                                 model_1[2][0]                    \n",
      "__________________________________________________________________________________________________\n",
      "batch_normalization_1 (BatchNor (None, 2048)         8192        concatenate_2[0][0]              \n",
      "__________________________________________________________________________________________________\n",
      "dense_1 (Dense)                 (None, 300)          614700      batch_normalization_1[0][0]      \n",
      "__________________________________________________________________________________________________\n",
      "dropout_1 (Dropout)             (None, 300)          0           dense_1[0][0]                    \n",
      "__________________________________________________________________________________________________\n",
      "batch_normalization_2 (BatchNor (None, 300)          1200        dropout_1[0][0]                  \n",
      "__________________________________________________________________________________________________\n",
      "dense_2 (Dense)                 (None, 1)            301         batch_normalization_2[0][0]      \n",
      "==================================================================================================\n",
      "Total params: 7,986,129\n",
      "Trainable params: 7,981,433\n",
      "Non-trainable params: 4,696\n",
      "__________________________________________________________________________________________________\n"
     ]
    }
   ],
   "source": [
    "inp1 = Input(shape=(maxlen,))\n",
    "inp2 = Input(shape=(maxlen,))\n",
    "\n",
    "# basic cnn+rnn model\n",
    "inp = Input(shape=(maxlen,))\n",
    "h = Embedding(max_features+1, embed_size, weights=[embedding_matrix], trainable=True)(inp)\n",
    "h = SpatialDropout1D(drop_prob)(h)\n",
    "h = Bidirectional(LSTM(num_rnn_units, return_sequences=True, dropout=drop_prob, recurrent_dropout=drop_prob))(h)\n",
    "h = Bidirectional(GRU(num_rnn_units, return_sequences=True, dropout=drop_prob, recurrent_dropout=drop_prob))(h)\n",
    "    \n",
    "conv_0 = Conv1D(num_filters, kernel_size=filter_sizes[0], padding = \"valid\", activation = 'relu')(h)\n",
    "conv_1 = Conv1D(num_filters, kernel_size=filter_sizes[1], padding = \"valid\", activation = 'relu')(h)\n",
    "conv_2 = Conv1D(num_filters, kernel_size=filter_sizes[2], padding = \"valid\", activation = 'relu')(h)\n",
    "conv_3 = Conv1D(num_filters, kernel_size=filter_sizes[3], padding = \"valid\", activation = 'relu')(h)\n",
    "maxpool_0 = GlobalMaxPooling1D()(conv_0)\n",
    "avgpool_0 = GlobalAveragePooling1D()(conv_0)\n",
    "maxpool_1 = GlobalMaxPooling1D()(conv_1)\n",
    "avgpool_1 = GlobalAveragePooling1D()(conv_1)\n",
    "maxpool_2 = GlobalMaxPooling1D()(conv_2)\n",
    "avgpool_2 = GlobalAveragePooling1D()(conv_2)\n",
    "maxpool_3 = GlobalMaxPooling1D()(conv_3)\n",
    "avgpool_3 = GlobalAveragePooling1D()(conv_3)\n",
    "\n",
    "z = concatenate([maxpool_0, maxpool_1, maxpool_2, maxpool_3, avgpool_0, avgpool_1, avgpool_2, avgpool_3])\n",
    "\n",
    "base_model = Model(inputs=inp, outputs=z)\n",
    "\n",
    "o1 = base_model(inp1)\n",
    "o2 = base_model(inp2)\n",
    "\n",
    "conc = concatenate([o1,o2])\n",
    "x = BatchNormalization()(conc)\n",
    "\n",
    "x = Dense(num_hidden_units, activation='relu')(x)\n",
    "x = Dropout(drop_prob)(x)\n",
    "x = BatchNormalization()(x)\n",
    "\n",
    "x = Dense(1, activation='sigmoid')(x)\n",
    "model = Model(inputs=[inp1, inp2], outputs=x)\n",
    "\n",
    "adam = optimizers.Adam(clipnorm=max_norm)\n",
    "model.compile(loss='binary_crossentropy', optimizer=adam, metrics=['accuracy'])\n",
    "\n",
    "model.summary()\n",
    "plot_model(model, to_file='model12.png', show_shapes=True)"
   ]
  },
  {
   "cell_type": "markdown",
   "metadata": {},
   "source": [
    "## Train the model"
   ]
  },
  {
   "cell_type": "code",
   "execution_count": 16,
   "metadata": {},
   "outputs": [
    {
     "name": "stdout",
     "output_type": "stream",
     "text": [
      "Train on 216228 samples, validate on 38158 samples\n",
      "Epoch 1/30\n",
      "216228/216228 [==============================] - 134s 618us/step - loss: 0.4791 - acc: 0.7705 - val_loss: 0.3695 - val_acc: 0.8359\n",
      "Epoch 2/30\n",
      "216228/216228 [==============================] - 124s 573us/step - loss: 0.3568 - acc: 0.8395 - val_loss: 0.2940 - val_acc: 0.8701\n",
      "Epoch 3/30\n",
      "216228/216228 [==============================] - 123s 571us/step - loss: 0.3065 - acc: 0.8653 - val_loss: 0.2683 - val_acc: 0.8829\n",
      "Epoch 4/30\n",
      "216228/216228 [==============================] - 124s 572us/step - loss: 0.2764 - acc: 0.8800 - val_loss: 0.2491 - val_acc: 0.8925\n",
      "Epoch 5/30\n",
      "216228/216228 [==============================] - 124s 574us/step - loss: 0.2524 - acc: 0.8912 - val_loss: 0.2452 - val_acc: 0.8968\n",
      "Epoch 6/30\n",
      "216228/216228 [==============================] - 124s 573us/step - loss: 0.2353 - acc: 0.9006 - val_loss: 0.2264 - val_acc: 0.9056\n",
      "Epoch 7/30\n",
      "216228/216228 [==============================] - 124s 574us/step - loss: 0.2218 - acc: 0.9064 - val_loss: 0.2245 - val_acc: 0.9082\n",
      "Epoch 8/30\n",
      "216228/216228 [==============================] - 124s 574us/step - loss: 0.2105 - acc: 0.9121 - val_loss: 0.2163 - val_acc: 0.9091\n",
      "Epoch 9/30\n",
      "216228/216228 [==============================] - 124s 573us/step - loss: 0.1981 - acc: 0.9174 - val_loss: 0.2146 - val_acc: 0.9122\n",
      "Epoch 10/30\n",
      "216228/216228 [==============================] - 124s 574us/step - loss: 0.1894 - acc: 0.9215 - val_loss: 0.2121 - val_acc: 0.9135\n",
      "Epoch 11/30\n",
      "216228/216228 [==============================] - 124s 574us/step - loss: 0.1823 - acc: 0.9245 - val_loss: 0.2134 - val_acc: 0.9140\n",
      "Epoch 12/30\n",
      "216228/216228 [==============================] - 124s 574us/step - loss: 0.1627 - acc: 0.9338 - val_loss: 0.2059 - val_acc: 0.9176\n",
      "Epoch 13/30\n",
      "216228/216228 [==============================] - 124s 573us/step - loss: 0.1558 - acc: 0.9359 - val_loss: 0.2074 - val_acc: 0.9185\n",
      "Epoch 14/30\n",
      "216228/216228 [==============================] - 124s 574us/step - loss: 0.1528 - acc: 0.9372 - val_loss: 0.2058 - val_acc: 0.9193\n",
      "Epoch 15/30\n",
      "216228/216228 [==============================] - 124s 574us/step - loss: 0.1518 - acc: 0.9380 - val_loss: 0.2057 - val_acc: 0.9194\n",
      "Epoch 16/30\n",
      "216228/216228 [==============================] - 124s 575us/step - loss: 0.1522 - acc: 0.9374 - val_loss: 0.2062 - val_acc: 0.9190\n",
      "Epoch 17/30\n",
      "216228/216228 [==============================] - 124s 575us/step - loss: 0.1511 - acc: 0.9382 - val_loss: 0.2059 - val_acc: 0.9194\n",
      "Epoch 18/30\n",
      "216228/216228 [==============================] - 124s 572us/step - loss: 0.1519 - acc: 0.9381 - val_loss: 0.2059 - val_acc: 0.9193\n",
      "Epoch 19/30\n",
      "216228/216228 [==============================] - 123s 567us/step - loss: 0.1525 - acc: 0.9376 - val_loss: 0.2069 - val_acc: 0.9189\n"
     ]
    }
   ],
   "source": [
    "cp = ModelCheckpoint(filepath=\"my_model12.h5\", save_best_only=True)\n",
    "es = EarlyStopping(patience=4)\n",
    "rp = ReduceLROnPlateau(patience = 0)\n",
    "hist = model.fit([X1_train, X2_train], y_tra, batch_size = 256, epochs=30, validation_data=([X1_val, X2_val], y_val), callbacks=[cp, es, rp])"
   ]
  },
  {
   "cell_type": "markdown",
   "metadata": {},
   "source": [
    "## check the loss curve"
   ]
  },
  {
   "cell_type": "code",
   "execution_count": 17,
   "metadata": {},
   "outputs": [
    {
     "name": "stdout",
     "output_type": "stream",
     "text": [
      "{'val_loss': [0.3694650414255069, 0.2939788307669503, 0.2683402618851275, 0.24907674609605693, 0.2452473750941202, 0.22637286642305168, 0.22449284892542332, 0.21630323391502038, 0.21456381406941014, 0.2121209961556121, 0.2134472033976134, 0.20585789729341833, 0.20741768615963987, 0.20582945619628418, 0.2057028622133401, 0.2062054874980854, 0.20591556228639896, 0.20590726921184613, 0.20693478831593062], 'val_acc': [0.8359452801478272, 0.8700927721516217, 0.8828817023921797, 0.8925258137281413, 0.8967713192577813, 0.9055506053838885, 0.9081712878002199, 0.9090623198249591, 0.9122333455600605, 0.9135174799580277, 0.9139629959703972, 0.9176319513663824, 0.9184705697426075, 0.9193353949430898, 0.9194140154158609, 0.9189947062277483, 0.9194402222401179, 0.9193091881188327, 0.9188636721064631], 'loss': [0.47908707951373386, 0.3567883926117189, 0.30645339371763003, 0.2764234066049216, 0.2523716579674285, 0.23533352414061268, 0.22179102393110026, 0.21050520245037022, 0.19810653133240128, 0.18942709119415138, 0.18232879697447346, 0.1627312460207023, 0.1557885962863782, 0.15278545188314344, 0.1517660037282084, 0.1522026508043165, 0.1511488453044142, 0.15186556706491244, 0.15248331232133727], 'acc': [0.7704968829033415, 0.839539745062943, 0.8653042159180271, 0.8799924154111547, 0.8911981797157458, 0.9006280407927278, 0.9064459736889205, 0.9121251641995022, 0.9173650036062008, 0.9215411510017569, 0.9245241134159705, 0.9338198568343428, 0.9358593706543752, 0.9371681743422171, 0.9379682557421916, 0.937399411730958, 0.9382457405883923, 0.9381254971813546, 0.9375751521707469], 'lr': [0.001, 0.001, 0.001, 0.001, 0.001, 0.001, 0.001, 0.001, 0.001, 0.001, 0.001, 0.000100000005, 0.000100000005, 1.0000001e-05, 1.0000001e-06, 1.0000001e-06, 1.0000001e-07, 1.0000001e-08, 1.0000001e-09]}\n"
     ]
    },
    {
     "data": {
      "text/plain": [
       "[<matplotlib.lines.Line2D at 0x153fe4250b8>]"
      ]
     },
     "execution_count": 17,
     "metadata": {},
     "output_type": "execute_result"
    },
    {
     "data": {
      "image/png": "[encoded data removed]",
      "text/plain": [
       "<matplotlib.figure.Figure at 0x1520d457c88>"
      ]
     },
     "metadata": {},
     "output_type": "display_data"
    }
   ],
   "source": [
    "print (hist.history)\n",
    "%matplotlib inline\n",
    "plt.figure(1)\n",
    "plt.plot (hist.history['loss'])\n",
    "plt.plot (hist.history['val_loss'])"
   ]
  },
  {
   "cell_type": "markdown",
   "metadata": {},
   "source": [
    "## Load the model"
   ]
  },
  {
   "cell_type": "code",
   "execution_count": 18,
   "metadata": {},
   "outputs": [],
   "source": [
    "from keras.models import load_model\n",
    "model = load_model('my_model12.h5')"
   ]
  },
  {
   "cell_type": "markdown",
   "metadata": {},
   "source": [
    "## predict the test data"
   ]
  },
  {
   "cell_type": "code",
   "execution_count": 19,
   "metadata": {},
   "outputs": [],
   "source": [
    "y_pred = model.predict([X1_test, X2_test], batch_size=1024)"
   ]
  },
  {
   "cell_type": "code",
   "execution_count": 20,
   "metadata": {},
   "outputs": [],
   "source": [
    "# To make a submission file \n",
    "def make_submission(predict_prob):\n",
    "    with open('sub12.csv', 'w') as file:\n",
    "        file.write(str('y_pre') + '\\n')\n",
    "        for line in predict_prob:\n",
    "            #line = np.clip(line, 0.005, 0.995)\n",
    "            file.write(str(line[0]) + '\\n')\n",
    "    file.close()\n",
    "    \n",
    "make_submission(y_pred)"
   ]
  },
  {
   "cell_type": "code",
   "execution_count": null,
   "metadata": {},
   "outputs": [],
   "source": []
  }
 ],
 "metadata": {
  "kernelspec": {
   "display_name": "Python 3",
   "language": "python",
   "name": "python3"
  },
  "language_info": {
   "codemirror_mode": {
    "name": "ipython",
    "version": 3
   },
   "file_extension": ".py",
   "mimetype": "text/x-python",
   "name": "python",
   "nbconvert_exporter": "python",
   "pygments_lexer": "ipython3",
   "version": "3.6.5"
  }
 },
 "nbformat": 4,
 "nbformat_minor": 2
}
