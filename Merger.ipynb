{
 "cells": [
  {
   "cell_type": "code",
   "execution_count": 1,
   "metadata": {},
   "outputs": [],
   "source": [
    "import numpy as np\n",
    "import pandas as pd"
   ]
  },
  {
   "cell_type": "code",
   "execution_count": 2,
   "metadata": {},
   "outputs": [],
   "source": [
    "a = 0.519109 # positive portion of train set\n",
    "b = 17.371649/(17.167525+17.371649) # positive portion of test set\n",
    "def rescale(x):\n",
    "    return a*x/(a*x+b*(1-x))"
   ]
  },
  {
   "cell_type": "code",
   "execution_count": 3,
   "metadata": {},
   "outputs": [],
   "source": [
    "merge_list = [7,11,12,13,14,15,16,17,19,20,21,22]\n",
    "sum = pd.read_csv('submission.csv')\n",
    "for i in merge_list:\n",
    "    result = pd.read_csv('sub%d.csv'%i)\n",
    "    sum += result\n",
    "sum /= len(merge_list)\n",
    "#sum = rescale(sum)\n",
    "#sum = np.clip(sum, 0.005, 0.995)\n",
    "sum.to_csv('f_submission.csv', index=False)"
   ]
  },
  {
   "cell_type": "code",
   "execution_count": null,
   "metadata": {},
   "outputs": [],
   "source": []
  }
 ],
 "metadata": {
  "kernelspec": {
   "display_name": "Python 3",
   "language": "python",
   "name": "python3"
  },
  "language_info": {
   "codemirror_mode": {
    "name": "ipython",
    "version": 3
   },
   "file_extension": ".py",
   "mimetype": "text/x-python",
   "name": "python",
   "nbconvert_exporter": "python",
   "pygments_lexer": "ipython3",
   "version": "3.6.5"
  }
 },
 "nbformat": 4,
 "nbformat_minor": 2
}
