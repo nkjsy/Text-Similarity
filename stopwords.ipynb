{
 "cells": [
  {
   "cell_type": "markdown",
   "metadata": {},
   "source": [
    "## Import packages"
   ]
  },
  {
   "cell_type": "code",
   "execution_count": 1,
   "metadata": {},
   "outputs": [
    {
     "name": "stderr",
     "output_type": "stream",
     "text": [
      "C:\\ProgramData\\Anaconda3\\lib\\site-packages\\h5py\\__init__.py:36: FutureWarning: Conversion of the second argument of issubdtype from `float` to `np.floating` is deprecated. In future, it will be treated as `np.float64 == np.dtype(float).type`.\n",
      "  from ._conv import register_converters as _register_converters\n",
      "Using TensorFlow backend.\n"
     ]
    }
   ],
   "source": [
    "import numpy as np\n",
    "import pandas as pd\n",
    "from matplotlib import pyplot as plt\n",
    "from sklearn.model_selection import train_test_split\n",
    "from sklearn.metrics import log_loss\n",
    "from keras.preprocessing.text import Tokenizer, text_to_word_sequence\n",
    "from keras.preprocessing.sequence import pad_sequences\n",
    "import math, csv"
   ]
  },
  {
   "cell_type": "markdown",
   "metadata": {},
   "source": [
    "## Hyper parameter setting"
   ]
  },
  {
   "cell_type": "code",
   "execution_count": 2,
   "metadata": {},
   "outputs": [],
   "source": [
    "token = 'words' # based on words or chars\n",
    "embed_size = 300 # how big is each word vector\n",
    "max_features = 20890 # how many unique words to use (i.e num rows in embedding vector)\n",
    "maxlen = 40 # max number of words in a comment to use"
   ]
  },
  {
   "cell_type": "markdown",
   "metadata": {},
   "source": [
    "## File path"
   ]
  },
  {
   "cell_type": "code",
   "execution_count": 3,
   "metadata": {},
   "outputs": [],
   "source": [
    "TRAIN_PATH = './train.csv'\n",
    "TEST_PATH = './test.csv'\n",
    "QUESTION_PATH = './question.csv'\n",
    "embed_files = {'words': './word_embed.txt', 'chars': './char_embed.txt'}"
   ]
  },
  {
   "cell_type": "markdown",
   "metadata": {},
   "source": [
    "## Some helper function"
   ]
  },
  {
   "cell_type": "code",
   "execution_count": 4,
   "metadata": {},
   "outputs": [],
   "source": [
    "# Get question id from a list. Remove the Q\n",
    "def get_ids(qids):\n",
    "    ids = []\n",
    "    for t_ in qids:\n",
    "        ids.append(int(t_[1:]))\n",
    "    return np.asarray(ids)\n",
    "\n",
    "# Get the text\n",
    "def get_texts(q_list, question_path=QUESTION_PATH):\n",
    "    qes = pd.read_csv(question_path)\n",
    "    ids = get_ids(q_list)\n",
    "    all_tokens = qes[token]\n",
    "    texts = [all_tokens[t] for t in ids]\n",
    "    return texts"
   ]
  },
  {
   "cell_type": "markdown",
   "metadata": {},
   "source": [
    "## Tokenize"
   ]
  },
  {
   "cell_type": "code",
   "execution_count": 5,
   "metadata": {},
   "outputs": [],
   "source": [
    "stopwords = dict()"
   ]
  },
  {
   "cell_type": "code",
   "execution_count": 6,
   "metadata": {},
   "outputs": [
    {
     "name": "stdout",
     "output_type": "stream",
     "text": [
      "[('W17378', 1.1738599275889938), ('W19355', 1.5684105652363736), ('W16319', 1.597352179677643), ('W18238', 1.7394524499517106), ('W18103', 1.8650951592201621), ('W05733', 2.0606361320708224), ('W17057', 2.084997646885859), ('W07863', 2.1986767011331696), ('W01490', 2.2740809053005457), ('W05284', 2.323375539646871), ('W04476', 2.40264413011684), ('W18804', 2.597636086871165), ('W03472', 2.659887023506065), ('W10157', 2.759316906501473), ('W18399', 2.840443977759901), ('W08238', 2.9810795974015925), ('W12244', 3.0159902313694933), ('W11385', 3.0463705864256148), ('W00863', 3.0556559736279603), ('W19606', 3.057640274958966)]\n"
     ]
    }
   ],
   "source": [
    "tokenizer = Tokenizer(num_words=max_features, lower=False) # Don't lower the W or L!!!\n",
    "tokenizer.fit_on_texts(pd.read_csv(QUESTION_PATH)['words'])\n",
    "\n",
    "num_doc = tokenizer.document_count # int: total document number\n",
    "word_docs = tokenizer.word_docs # dict: document number of each token\n",
    "\n",
    "# dict: inverse document frequency\n",
    "idf = dict()\n",
    "for t, n in word_docs.items():\n",
    "    idf[t] = math.log(num_doc/n)\n",
    "    \n",
    "idf_list = sorted(idf.items(), key=lambda e:e[1])\n",
    "print (idf_list[:20])\n",
    "stopwords['words'] = [i[0] for i in idf_list[:5]]"
   ]
  },
  {
   "cell_type": "code",
   "execution_count": 7,
   "metadata": {},
   "outputs": [
    {
     "data": {
      "image/png": "[encoded data removed]",
      "text/plain": [
       "<Figure size 432x288 with 3 Axes>"
      ]
     },
     "metadata": {},
     "output_type": "display_data"
    }
   ],
   "source": [
    "# visualize\n",
    "doc_list = [n for w,n in word_docs.items()]\n",
    "idf_log = [n for w,n in idf_list]\n",
    "plt.subplot(131)\n",
    "plt.plot(doc_list)\n",
    "plt.subplot(132)\n",
    "n,bins,patch = plt.hist(doc_list, bins = 70)\n",
    "plt.subplot(133)\n",
    "n,bins,patch = plt.hist(idf_log, range = (0,10))\n",
    "plt.show()"
   ]
  },
  {
   "cell_type": "code",
   "execution_count": 8,
   "metadata": {},
   "outputs": [
    {
     "name": "stdout",
     "output_type": "stream",
     "text": [
      "[('L0104', 0.9891870277799357), ('L2214', 1.094979551154157), ('L1861', 1.230000459222459), ('L2582', 1.4118449418617784), ('L3019', 1.4432489724434485), ('L0143', 1.490857739112166), ('L2218', 1.5302196585010468), ('L1132', 1.5501576186150134), ('L1128', 1.719324008235376), ('L0362', 1.8650951592201621), ('L1187', 1.9857186015439008), ('L1368', 1.9913142279010605), ('L1796', 2.0113749283576863), ('L0260', 2.084997646885859), ('L0578', 2.1293465071342474), ('L2568', 2.1728798507791067), ('L2927', 2.197539002376929), ('L0507', 2.232463486110437), ('L0050', 2.2418632479975256), ('L2237', 2.2944608917273306), ('L1346', 2.322212838407117), ('L1900', 2.34704721416398), ('L0942', 2.3621590306114486), ('L0156', 2.3637485199035257), ('L2272', 2.3764823067991725), ('L0762', 2.380822572102415), ('L1742', 2.446897285420478), ('L2600', 2.4660635180563046), ('L2172', 2.4924194107329414), ('L0423', 2.5216056559052626)]\n"
     ]
    }
   ],
   "source": [
    "tokenizer = Tokenizer(num_words=max_features, lower=False) # Don't lower the W or L!!!\n",
    "tokenizer.fit_on_texts(pd.read_csv(QUESTION_PATH)['chars'])\n",
    "\n",
    "num_doc = tokenizer.document_count # int: total document number\n",
    "word_docs = tokenizer.word_docs # dict: document number of each token\n",
    "\n",
    "# dict: inverse document frequency\n",
    "idf = dict()\n",
    "for t, n in word_docs.items():\n",
    "    idf[t] = math.log(num_doc/n)\n",
    "    \n",
    "idf_list = sorted(idf.items(), key=lambda e:e[1])\n",
    "print (idf_list[:30])\n",
    "stopwords['chars'] = [i[0] for i in idf_list[:5]]"
   ]
  },
  {
   "cell_type": "code",
   "execution_count": 9,
   "metadata": {},
   "outputs": [
    {
     "data": {
      "image/png": "[encoded data removed]",
      "text/plain": [
       "<Figure size 432x288 with 3 Axes>"
      ]
     },
     "metadata": {},
     "output_type": "display_data"
    }
   ],
   "source": [
    "# visualize\n",
    "doc_list = [n for w,n in word_docs.items()]\n",
    "idf_log = [n for w,n in idf_list]\n",
    "plt.subplot(131)\n",
    "plt.plot(doc_list)\n",
    "plt.subplot(132)\n",
    "n,bins,patch = plt.hist(doc_list, range=(0,50000), bins = 70)\n",
    "plt.subplot(133)\n",
    "n,bins,patch = plt.hist(idf_log, range = (0,5))\n",
    "plt.show()"
   ]
  },
  {
   "cell_type": "code",
   "execution_count": 10,
   "metadata": {},
   "outputs": [
    {
     "name": "stdout",
     "output_type": "stream",
     "text": [
      "20890\n"
     ]
    },
    {
     "data": {
      "image/png": "[encoded data removed]",
      "text/plain": [
       "<Figure size 432x288 with 1 Axes>"
      ]
     },
     "metadata": {},
     "output_type": "display_data"
    }
   ],
   "source": [
    "questions = pd.read_csv(QUESTION_PATH)\n",
    "len_questions = []\n",
    "all_chars = []\n",
    "for line in questions[token]:\n",
    "    question = line.split()\n",
    "    len_questions.append(len(question))\n",
    "    all_chars.extend(question)\n",
    "all_chars = set(all_chars)\n",
    "print (len(all_chars))\n",
    "\n",
    "n,bins,patch = plt.hist(len_questions, bins=40)\n",
    "plt.show()"
   ]
  },
  {
   "cell_type": "code",
   "execution_count": 11,
   "metadata": {},
   "outputs": [],
   "source": [
    "questions = pd.read_csv(QUESTION_PATH)\n",
    "col1 = questions['qid']\n",
    "w = questions['words']\n",
    "l = questions['chars']\n",
    "\n",
    "file = open('q_no_stopwords.csv', 'w', newline='')\n",
    "writer=csv.writer(file, delimiter=\",\")\n",
    "header=['qid','words','chars']\n",
    "\n",
    "# remove stopwords in words\n",
    "col2=[]\n",
    "for line in w:\n",
    "    text = ''\n",
    "    ws = text_to_word_sequence(line, lower=False)\n",
    "    for word in ws:\n",
    "        if word not in stopwords['words']:\n",
    "            text += word+' '\n",
    "    col2.append(text)\n",
    "    \n",
    "# remove stopwords in chars\n",
    "col3=[]\n",
    "for line in l:\n",
    "    text = ''\n",
    "    ws = text_to_word_sequence(line, lower=False)\n",
    "    for word in ws:\n",
    "        if word not in stopwords['chars']:\n",
    "            text += word+' '\n",
    "    col3.append(text)\n",
    "    \n",
    "writer.writerow(header)\n",
    "writer.writerows(zip(col1, col2, col3))\n",
    "file.close()            "
   ]
  },
  {
   "cell_type": "code",
   "execution_count": 12,
   "metadata": {},
   "outputs": [
    {
     "name": "stdout",
     "output_type": "stream",
     "text": [
      "20885\n"
     ]
    },
    {
     "data": {
      "image/png": "[encoded data removed]",
      "text/plain": [
       "<Figure size 432x288 with 1 Axes>"
      ]
     },
     "metadata": {},
     "output_type": "display_data"
    }
   ],
   "source": [
    "questions = pd.read_csv('q_no_stopwords.csv')\n",
    "len_questions = []\n",
    "all_chars = []\n",
    "l=0\n",
    "for line in questions['words']:\n",
    "    l += 1\n",
    "    #print (l)\n",
    "    question = line.split()\n",
    "    len_questions.append(len(question))\n",
    "    all_chars.extend(question)\n",
    "all_chars = set(all_chars)\n",
    "print (len(all_chars))\n",
    "\n",
    "n,bins,patch = plt.hist(len_questions, bins=38)\n",
    "plt.show()"
   ]
  },
  {
   "cell_type": "code",
   "execution_count": 13,
   "metadata": {},
   "outputs": [
    {
     "name": "stdout",
     "output_type": "stream",
     "text": [
      "3043\n"
     ]
    },
    {
     "data": {
      "image/png": "[encoded data removed]",
      "text/plain": [
       "<Figure size 432x288 with 1 Axes>"
      ]
     },
     "metadata": {},
     "output_type": "display_data"
    }
   ],
   "source": [
    "questions = pd.read_csv('q_no_stopwords.csv')\n",
    "len_questions = []\n",
    "all_chars = []\n",
    "l=0\n",
    "for line in questions['chars']:\n",
    "    l += 1\n",
    "    #print (l)\n",
    "    question = line.split()\n",
    "    len_questions.append(len(question))\n",
    "    all_chars.extend(question)\n",
    "all_chars = set(all_chars)\n",
    "print (len(all_chars))\n",
    "\n",
    "n,bins,patch = plt.hist(len_questions, bins=56)\n",
    "plt.show()"
   ]
  },
  {
   "cell_type": "markdown",
   "metadata": {},
   "source": [
    "### After removing stop words and chars\n",
    "\n",
    "20890-5个词语。每个问题最短1个，最长38个，大部分小于15个。\n",
    "\n",
    "3048-5个单字。每个问题最短1个，最长56个，大部分小于20个。"
   ]
  },
  {
   "cell_type": "code",
   "execution_count": null,
   "metadata": {},
   "outputs": [],
   "source": []
  }
 ],
 "metadata": {
  "kernelspec": {
   "display_name": "Python 3",
   "language": "python",
   "name": "python3"
  },
  "language_info": {
   "codemirror_mode": {
    "name": "ipython",
    "version": 3
   },
   "file_extension": ".py",
   "mimetype": "text/x-python",
   "name": "python",
   "nbconvert_exporter": "python",
   "pygments_lexer": "ipython3",
   "version": "3.6.5"
  }
 },
 "nbformat": 4,
 "nbformat_minor": 2
}
