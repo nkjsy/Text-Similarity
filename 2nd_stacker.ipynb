{
 "cells": [
  {
   "cell_type": "code",
   "execution_count": 1,
   "metadata": {},
   "outputs": [],
   "source": [
    "import numpy as np\n",
    "import pandas as pd\n",
    "from sklearn import linear_model\n",
    "import xgboost as xgb\n",
    "from sklearn.svm import SVC\n",
    "from sklearn.svm import LinearSVC\n",
    "from sklearn.ensemble import RandomForestClassifier\n",
    "from sklearn.neighbors import KNeighborsClassifier\n",
    "from sklearn.neural_network import MLPClassifier\n",
    "from sklearn.model_selection import KFold\n",
    "from sklearn.metrics import log_loss\n",
    "import gc"
   ]
  },
  {
   "cell_type": "markdown",
   "metadata": {},
   "source": [
    "## Prepare the feature"
   ]
  },
  {
   "cell_type": "code",
   "execution_count": 2,
   "metadata": {
    "scrolled": true
   },
   "outputs": [
    {
     "name": "stdout",
     "output_type": "stream",
     "text": [
      "(254386, 6) (172956, 6) (254386,)\n"
     ]
    }
   ],
   "source": [
    "stack_list = [7,11,12,14,16,17] # chosen single models from 1st layer\n",
    "x_train = []\n",
    "x_test = []\n",
    "for i in stack_list:\n",
    "    res = pd.read_csv('train%d.csv'%i)\n",
    "    y_train = res['label']\n",
    "    x_train.append(res['train'])\n",
    "    x_test.append(pd.read_csv('test%d.csv'%i)['test'])\n",
    "x_train = np.transpose(np.asarray(x_train))\n",
    "x_test = np.transpose(np.asarray(x_test))\n",
    "print (np.shape(x_train), np.shape(x_test), np.shape(y_train))"
   ]
  },
  {
   "cell_type": "markdown",
   "metadata": {},
   "source": [
    "## Different single models"
   ]
  },
  {
   "cell_type": "markdown",
   "metadata": {},
   "source": [
    "### logistic regression"
   ]
  },
  {
   "cell_type": "code",
   "execution_count": 3,
   "metadata": {},
   "outputs": [
    {
     "name": "stdout",
     "output_type": "stream",
     "text": [
      "+++++++++++++++++++ Logistic Regression +++++++++++++++++++++++\n",
      "========== Fold 1: ==========\n",
      "========== Fold 2: ==========\n",
      "========== Fold 3: ==========\n",
      "========== Fold 4: ==========\n",
      "========== Fold 5: ==========\n",
      "========== Fold 6: ==========\n",
      "========== Fold 7: ==========\n",
      "========== Fold 8: ==========\n",
      "0.18580469117820506\n"
     ]
    }
   ],
   "source": [
    "kf = KFold(n_splits=8)\n",
    "n_fold = 0\n",
    "score = 0\n",
    "val_pred_list = []\n",
    "test_pred_list = []\n",
    "y_val_list = []\n",
    "print (\"+++++++++++++++++++ Logistic Regression +++++++++++++++++++++++\")\n",
    "for train_index, valid_index in kf.split(x_train):\n",
    "    n_fold += 1\n",
    "    print (\"========== Fold %d: ==========\"%n_fold)\n",
    "    \n",
    "    # split samples\n",
    "    x_tra, x_val = x_train[train_index], x_train[valid_index]\n",
    "    y_tra, y_val = y_train[train_index], y_train[valid_index]\n",
    "    \n",
    "    # train the model\n",
    "    model = linear_model.LogisticRegression(solver='saga', n_jobs=-1)\n",
    "    model.fit(x_tra, y_tra)\n",
    "    \n",
    "    # predict\n",
    "    val_pred = model.predict_proba(x_val)[:,1]\n",
    "    val_pred_list.append(val_pred)\n",
    "    y_val_list.append(y_val)\n",
    "    test_pred = model.predict_proba(x_test)[:,1]\n",
    "    test_pred_list.append(test_pred)\n",
    "    \n",
    "    score += log_loss(y_val, val_pred)\n",
    "    del x_tra, x_val, y_tra, y_val, val_pred, test_pred, model\n",
    "    gc.collect()\n",
    "    \n",
    "# make the feature\n",
    "val_pred_list = np.concatenate(val_pred_list)\n",
    "test_pred_list = np.asarray(test_pred_list)\n",
    "y_val_list = np.concatenate(y_val_list)\n",
    "test_pred_list = np.mean(test_pred_list, axis=0)\n",
    "\n",
    "val_pred_list = np.squeeze(val_pred_list)\n",
    "test_pred_list = np.squeeze(test_pred_list)\n",
    "\n",
    "#np.shape(val_pred_list), np.shape(y_val_list), np.shape(test_pred_list)\n",
    "print (score/8)\n",
    "\n",
    "train = pd.DataFrame({'lr':val_pred_list, 'label':y_val_list})\n",
    "test = pd.DataFrame({'lr':test_pred_list})"
   ]
  },
  {
   "cell_type": "markdown",
   "metadata": {},
   "source": [
    "### xgboost"
   ]
  },
  {
   "cell_type": "code",
   "execution_count": 4,
   "metadata": {},
   "outputs": [
    {
     "name": "stdout",
     "output_type": "stream",
     "text": [
      "+++++++++++++++++++ XGBoost +++++++++++++++++++++++\n",
      "========== Fold 1: ==========\n",
      "========== Fold 2: ==========\n",
      "========== Fold 3: ==========\n",
      "========== Fold 4: ==========\n",
      "========== Fold 5: ==========\n",
      "========== Fold 6: ==========\n",
      "========== Fold 7: ==========\n",
      "========== Fold 8: ==========\n",
      "0.17278295074179337\n"
     ]
    }
   ],
   "source": [
    "kf = KFold(n_splits=8)\n",
    "n_fold = 0\n",
    "score = 0\n",
    "val_pred_list = []\n",
    "test_pred_list = []\n",
    "print (\"+++++++++++++++++++ XGBoost +++++++++++++++++++++++\")\n",
    "for train_index, valid_index in kf.split(x_train):\n",
    "    n_fold += 1\n",
    "    print (\"========== Fold %d: ==========\"%n_fold)\n",
    "    \n",
    "    # split samples\n",
    "    x_tra, x_val = x_train[train_index], x_train[valid_index]\n",
    "    y_tra, y_val = y_train[train_index], y_train[valid_index]\n",
    "\n",
    "    # train the model\n",
    "    model = xgb.XGBClassifier(\n",
    "        #learning_rate = 0.02,\n",
    "        n_estimators= 2000,\n",
    "        max_depth= 5,\n",
    "        min_child_weight= 3,\n",
    "        gamma=0.9,                        \n",
    "        subsample=0.8,\n",
    "        colsample_bytree=0.8,\n",
    "        objective= 'binary:logistic',\n",
    "        n_jobs= -1,\n",
    "        scale_pos_weight=1)\n",
    "    #model.fit(x_tra, y_tra, eval_set=list(zip(x_val, y_val)), eval_metric='logloss', early_stopping_rounds=2)\n",
    "    model.fit(x_tra, y_tra)\n",
    "    \n",
    "    # predict\n",
    "    val_pred = model.predict_proba(x_val)[:,1]\n",
    "    val_pred_list.append(val_pred)\n",
    "    test_pred = model.predict_proba(x_test)[:,1]\n",
    "    test_pred_list.append(test_pred)\n",
    "    \n",
    "    score += log_loss(y_val, val_pred)\n",
    "    del x_tra, x_val, y_tra, model, val_pred, test_pred\n",
    "    gc.collect()\n",
    "    \n",
    "# make the feature\n",
    "val_pred_list = np.concatenate(val_pred_list)\n",
    "test_pred_list = np.asarray(test_pred_list)\n",
    "test_pred_list = np.mean(test_pred_list, axis=0)\n",
    "\n",
    "val_pred_list = np.squeeze(val_pred_list)\n",
    "test_pred_list = np.squeeze(test_pred_list)\n",
    "\n",
    "#np.shape(val_pred_list), np.shape(test_pred_list)\n",
    "print (score/8.0)\n",
    "train.insert(1, 'xgb', val_pred_list)\n",
    "test.insert(1, 'xgb', test_pred_list)"
   ]
  },
  {
   "cell_type": "markdown",
   "metadata": {},
   "source": [
    "### SVM"
   ]
  },
  {
   "cell_type": "code",
   "execution_count": 10,
   "metadata": {},
   "outputs": [
    {
     "name": "stdout",
     "output_type": "stream",
     "text": [
      "+++++++++++++++++++ SVM +++++++++++++++++++++++\n",
      "========== Fold 1: ==========\n",
      "========== Fold 2: ==========\n",
      "========== Fold 3: ==========\n",
      "========== Fold 4: ==========\n",
      "========== Fold 5: ==========\n",
      "========== Fold 6: ==========\n",
      "========== Fold 7: ==========\n",
      "========== Fold 8: ==========\n",
      "0.2841522483157444\n"
     ]
    },
    {
     "ename": "ValueError",
     "evalue": "cannot insert svc, already exists",
     "output_type": "error",
     "traceback": [
      "\u001b[1;31m---------------------------------------------------------------------------\u001b[0m",
      "\u001b[1;31mValueError\u001b[0m                                Traceback (most recent call last)",
      "\u001b[1;32m<ipython-input-10-9410f4157d6a>\u001b[0m in \u001b[0;36m<module>\u001b[1;34m()\u001b[0m\n\u001b[0;32m     38\u001b[0m \u001b[0mprint\u001b[0m \u001b[1;33m(\u001b[0m\u001b[0mscore\u001b[0m\u001b[1;33m/\u001b[0m\u001b[1;36m8\u001b[0m\u001b[1;33m)\u001b[0m\u001b[1;33m\u001b[0m\u001b[0m\n\u001b[0;32m     39\u001b[0m \u001b[1;33m\u001b[0m\u001b[0m\n\u001b[1;32m---> 40\u001b[1;33m \u001b[0mtrain\u001b[0m\u001b[1;33m.\u001b[0m\u001b[0minsert\u001b[0m\u001b[1;33m(\u001b[0m\u001b[1;36m1\u001b[0m\u001b[1;33m,\u001b[0m \u001b[1;34m'svc'\u001b[0m\u001b[1;33m,\u001b[0m \u001b[0mval_pred_list\u001b[0m\u001b[1;33m)\u001b[0m\u001b[1;33m\u001b[0m\u001b[0m\n\u001b[0m\u001b[0;32m     41\u001b[0m \u001b[0mtest\u001b[0m\u001b[1;33m.\u001b[0m\u001b[0minsert\u001b[0m\u001b[1;33m(\u001b[0m\u001b[1;36m1\u001b[0m\u001b[1;33m,\u001b[0m \u001b[1;34m'svc'\u001b[0m\u001b[1;33m,\u001b[0m \u001b[0mtest_pred_list\u001b[0m\u001b[1;33m)\u001b[0m\u001b[1;33m\u001b[0m\u001b[0m\n",
      "\u001b[1;32mC:\\ProgramData\\Anaconda3\\lib\\site-packages\\pandas\\core\\frame.py\u001b[0m in \u001b[0;36minsert\u001b[1;34m(self, loc, column, value, allow_duplicates)\u001b[0m\n\u001b[0;32m   3217\u001b[0m         \u001b[0mvalue\u001b[0m \u001b[1;33m=\u001b[0m \u001b[0mself\u001b[0m\u001b[1;33m.\u001b[0m\u001b[0m_sanitize_column\u001b[0m\u001b[1;33m(\u001b[0m\u001b[0mcolumn\u001b[0m\u001b[1;33m,\u001b[0m \u001b[0mvalue\u001b[0m\u001b[1;33m,\u001b[0m \u001b[0mbroadcast\u001b[0m\u001b[1;33m=\u001b[0m\u001b[1;32mFalse\u001b[0m\u001b[1;33m)\u001b[0m\u001b[1;33m\u001b[0m\u001b[0m\n\u001b[0;32m   3218\u001b[0m         self._data.insert(loc, column, value,\n\u001b[1;32m-> 3219\u001b[1;33m                           allow_duplicates=allow_duplicates)\n\u001b[0m\u001b[0;32m   3220\u001b[0m \u001b[1;33m\u001b[0m\u001b[0m\n\u001b[0;32m   3221\u001b[0m     \u001b[1;32mdef\u001b[0m \u001b[0massign\u001b[0m\u001b[1;33m(\u001b[0m\u001b[0mself\u001b[0m\u001b[1;33m,\u001b[0m \u001b[1;33m**\u001b[0m\u001b[0mkwargs\u001b[0m\u001b[1;33m)\u001b[0m\u001b[1;33m:\u001b[0m\u001b[1;33m\u001b[0m\u001b[0m\n",
      "\u001b[1;32mC:\\ProgramData\\Anaconda3\\lib\\site-packages\\pandas\\core\\internals.py\u001b[0m in \u001b[0;36minsert\u001b[1;34m(self, loc, item, value, allow_duplicates)\u001b[0m\n\u001b[0;32m   4336\u001b[0m         \u001b[1;32mif\u001b[0m \u001b[1;32mnot\u001b[0m \u001b[0mallow_duplicates\u001b[0m \u001b[1;32mand\u001b[0m \u001b[0mitem\u001b[0m \u001b[1;32min\u001b[0m \u001b[0mself\u001b[0m\u001b[1;33m.\u001b[0m\u001b[0mitems\u001b[0m\u001b[1;33m:\u001b[0m\u001b[1;33m\u001b[0m\u001b[0m\n\u001b[0;32m   4337\u001b[0m             \u001b[1;31m# Should this be a different kind of error??\u001b[0m\u001b[1;33m\u001b[0m\u001b[1;33m\u001b[0m\u001b[0m\n\u001b[1;32m-> 4338\u001b[1;33m             \u001b[1;32mraise\u001b[0m \u001b[0mValueError\u001b[0m\u001b[1;33m(\u001b[0m\u001b[1;34m'cannot insert {}, already exists'\u001b[0m\u001b[1;33m.\u001b[0m\u001b[0mformat\u001b[0m\u001b[1;33m(\u001b[0m\u001b[0mitem\u001b[0m\u001b[1;33m)\u001b[0m\u001b[1;33m)\u001b[0m\u001b[1;33m\u001b[0m\u001b[0m\n\u001b[0m\u001b[0;32m   4339\u001b[0m \u001b[1;33m\u001b[0m\u001b[0m\n\u001b[0;32m   4340\u001b[0m         \u001b[1;32mif\u001b[0m \u001b[1;32mnot\u001b[0m \u001b[0misinstance\u001b[0m\u001b[1;33m(\u001b[0m\u001b[0mloc\u001b[0m\u001b[1;33m,\u001b[0m \u001b[0mint\u001b[0m\u001b[1;33m)\u001b[0m\u001b[1;33m:\u001b[0m\u001b[1;33m\u001b[0m\u001b[0m\n",
      "\u001b[1;31mValueError\u001b[0m: cannot insert svc, already exists"
     ]
    }
   ],
   "source": [
    "kf = KFold(n_splits=8)\n",
    "n_fold = 0\n",
    "score = 0\n",
    "val_pred_list = []\n",
    "test_pred_list = []\n",
    "print (\"+++++++++++++++++++ SVM +++++++++++++++++++++++\")\n",
    "for train_index, valid_index in kf.split(x_train):\n",
    "    n_fold += 1\n",
    "    print (\"========== Fold %d: ==========\"%n_fold)\n",
    "    \n",
    "    # split samples\n",
    "    x_tra, x_val = x_train[train_index], x_train[valid_index]\n",
    "    y_tra, y_val = y_train[train_index], y_train[valid_index]\n",
    "    \n",
    "    # train the model\n",
    "    model = LinearSVC()\n",
    "    model.fit(x_tra, y_tra)\n",
    "    \n",
    "    # predict\n",
    "    val_pred = np.clip(model.predict(x_val), 0.08, 0.92)\n",
    "    val_pred_list.append(val_pred)\n",
    "    test_pred = np.clip(model.predict(x_test), 0.08, 0.92)\n",
    "    test_pred_list.append(test_pred)\n",
    "    \n",
    "    score += log_loss(y_val, val_pred)\n",
    "    del x_tra, x_val, y_tra, model, val_pred, test_pred\n",
    "    gc.collect()\n",
    "    \n",
    "# make the feature\n",
    "val_pred_list = np.concatenate(val_pred_list)\n",
    "test_pred_list = np.asarray(test_pred_list)\n",
    "test_pred_list = np.mean(test_pred_list, axis=0)\n",
    "\n",
    "val_pred_list = np.squeeze(val_pred_list)\n",
    "test_pred_list = np.squeeze(test_pred_list)\n",
    "\n",
    "#np.shape(val_pred_list), np.shape(test_pred_list)\n",
    "print (score/8)\n",
    "\n",
    "train.insert(1, 'svc', val_pred_list)\n",
    "test.insert(1, 'svc', test_pred_list)"
   ]
  },
  {
   "cell_type": "markdown",
   "metadata": {},
   "source": [
    "### random forest"
   ]
  },
  {
   "cell_type": "code",
   "execution_count": 6,
   "metadata": {},
   "outputs": [
    {
     "name": "stdout",
     "output_type": "stream",
     "text": [
      "+++++++++++++++++++ Random Forest +++++++++++++++++++++++\n",
      "========== Fold 1: ==========\n",
      "========== Fold 2: ==========\n",
      "========== Fold 3: ==========\n",
      "========== Fold 4: ==========\n",
      "========== Fold 5: ==========\n",
      "========== Fold 6: ==========\n",
      "========== Fold 7: ==========\n",
      "========== Fold 8: ==========\n",
      "0.16730529988876292\n"
     ]
    }
   ],
   "source": [
    "kf = KFold(n_splits=8)\n",
    "n_fold = 0\n",
    "score = 0\n",
    "val_pred_list = []\n",
    "test_pred_list = []\n",
    "print (\"+++++++++++++++++++ Random Forest +++++++++++++++++++++++\")\n",
    "for train_index, valid_index in kf.split(x_train):\n",
    "    n_fold += 1\n",
    "    print (\"========== Fold %d: ==========\"%n_fold)\n",
    "    \n",
    "    # split samples\n",
    "    x_tra, x_val = x_train[train_index], x_train[valid_index]\n",
    "    y_tra, y_val = y_train[train_index], y_train[valid_index]\n",
    "    \n",
    "    # train the model\n",
    "    model = RandomForestClassifier(max_depth=8, n_jobs=-1)\n",
    "    model.fit(x_tra, y_tra)\n",
    "    \n",
    "    # predict\n",
    "    val_pred = model.predict_proba(x_val)[:,1]\n",
    "    val_pred_list.append(val_pred)\n",
    "    test_pred = model.predict_proba(x_test)[:,1]\n",
    "    test_pred_list.append(test_pred)\n",
    "    \n",
    "    score += log_loss(y_val, val_pred)\n",
    "    del x_tra, x_val, y_tra, model, val_pred, test_pred\n",
    "    gc.collect()\n",
    "    \n",
    "# make the feature\n",
    "val_pred_list = np.concatenate(val_pred_list)\n",
    "test_pred_list = np.asarray(test_pred_list)\n",
    "test_pred_list = np.mean(test_pred_list, axis=0)\n",
    "\n",
    "val_pred_list = np.squeeze(val_pred_list)\n",
    "test_pred_list = np.squeeze(test_pred_list)\n",
    "\n",
    "#np.shape(val_pred_list), np.shape(test_pred_list)\n",
    "print (score/8)\n",
    "train.insert(1, 'rf', val_pred_list)\n",
    "test.insert(1, 'rf', test_pred_list)"
   ]
  },
  {
   "cell_type": "markdown",
   "metadata": {},
   "source": [
    "### K nearest neighbor"
   ]
  },
  {
   "cell_type": "code",
   "execution_count": 7,
   "metadata": {},
   "outputs": [
    {
     "name": "stdout",
     "output_type": "stream",
     "text": [
      "+++++++++++++++++++ KNN +++++++++++++++++++++++\n",
      "========== Fold 1: ==========\n",
      "========== Fold 2: ==========\n",
      "========== Fold 3: ==========\n",
      "========== Fold 4: ==========\n",
      "========== Fold 5: ==========\n",
      "========== Fold 6: ==========\n",
      "========== Fold 7: ==========\n",
      "========== Fold 8: ==========\n",
      "0.18083557392347735\n"
     ]
    }
   ],
   "source": [
    "kf = KFold(n_splits=8)\n",
    "n_fold = 0\n",
    "score = 0\n",
    "val_pred_list = []\n",
    "test_pred_list = []\n",
    "print (\"+++++++++++++++++++ KNN +++++++++++++++++++++++\")\n",
    "for train_index, valid_index in kf.split(x_train):\n",
    "    n_fold += 1\n",
    "    print (\"========== Fold %d: ==========\"%n_fold)\n",
    "    \n",
    "    # split samples\n",
    "    x_tra, x_val = x_train[train_index], x_train[valid_index]\n",
    "    y_tra, y_val = y_train[train_index], y_train[valid_index]\n",
    "    \n",
    "    # train the model\n",
    "    model = KNeighborsClassifier(n_neighbors=20, n_jobs=-1)\n",
    "    model.fit(x_tra, y_tra)\n",
    "    \n",
    "    # predict\n",
    "    val_pred = np.clip(model.predict_proba(x_val)[:,1], 0.01, 0.99)\n",
    "    val_pred_list.append(val_pred)\n",
    "    test_pred = np.clip(model.predict_proba(x_test)[:,1], 0.01, 0.99)\n",
    "    test_pred_list.append(test_pred)\n",
    "    \n",
    "    score += log_loss(y_val, val_pred)\n",
    "    del x_tra, x_val, y_tra, model, val_pred, test_pred\n",
    "    gc.collect()\n",
    "    \n",
    "# make the feature\n",
    "val_pred_list = np.concatenate(val_pred_list)\n",
    "test_pred_list = np.asarray(test_pred_list)\n",
    "test_pred_list = np.mean(test_pred_list, axis=0)\n",
    "\n",
    "val_pred_list = np.squeeze(val_pred_list)\n",
    "test_pred_list = np.squeeze(test_pred_list)\n",
    "\n",
    "#np.shape(val_pred_list), np.shape(test_pred_list)\n",
    "print (score/8)\n",
    "train.insert(1, 'knn', val_pred_list)\n",
    "test.insert(1, 'knn', test_pred_list)"
   ]
  },
  {
   "cell_type": "markdown",
   "metadata": {},
   "source": [
    "### Multi layer perceptron"
   ]
  },
  {
   "cell_type": "code",
   "execution_count": 8,
   "metadata": {},
   "outputs": [
    {
     "name": "stdout",
     "output_type": "stream",
     "text": [
      "+++++++++++++++++++ MLP +++++++++++++++++++++++\n",
      "========== Fold 1: ==========\n",
      "========== Fold 2: ==========\n",
      "========== Fold 3: ==========\n",
      "========== Fold 4: ==========\n",
      "========== Fold 5: ==========\n",
      "========== Fold 6: ==========\n",
      "========== Fold 7: ==========\n",
      "========== Fold 8: ==========\n",
      "0.17311126660649262\n"
     ]
    }
   ],
   "source": [
    "kf = KFold(n_splits=8)\n",
    "n_fold = 0\n",
    "score = 0\n",
    "val_pred_list = []\n",
    "test_pred_list = []\n",
    "print (\"+++++++++++++++++++ MLP +++++++++++++++++++++++\")\n",
    "for train_index, valid_index in kf.split(x_train):\n",
    "    n_fold += 1\n",
    "    print (\"========== Fold %d: ==========\"%n_fold)\n",
    "    \n",
    "    # split samples\n",
    "    x_tra, x_val = x_train[train_index], x_train[valid_index]\n",
    "    y_tra, y_val = y_train[train_index], y_train[valid_index]\n",
    "    \n",
    "    # train the model\n",
    "    model = MLPClassifier(hidden_layer_sizes=(100, 100), batch_size=256, max_iter=40, early_stopping=True)\n",
    "    model.fit(x_tra, y_tra)\n",
    "    \n",
    "    # predict\n",
    "    val_pred = model.predict_proba(x_val)[:,1]\n",
    "    val_pred_list.append(val_pred)\n",
    "    test_pred = model.predict_proba(x_test)[:,1]\n",
    "    test_pred_list.append(test_pred)\n",
    "    \n",
    "    score += log_loss(y_val, val_pred)\n",
    "    del x_tra, x_val, y_tra, model, val_pred, test_pred\n",
    "    gc.collect()\n",
    "    \n",
    "# make the feature\n",
    "val_pred_list = np.concatenate(val_pred_list)\n",
    "test_pred_list = np.asarray(test_pred_list)\n",
    "test_pred_list = np.mean(test_pred_list, axis=0)\n",
    "\n",
    "val_pred_list = np.squeeze(val_pred_list)\n",
    "test_pred_list = np.squeeze(test_pred_list)\n",
    "\n",
    "#np.shape(val_pred_list), np.shape(test_pred_list)\n",
    "print (score/8)\n",
    "train.insert(1, 'mlp', val_pred_list)\n",
    "test.insert(1, 'mlp', test_pred_list)"
   ]
  },
  {
   "cell_type": "markdown",
   "metadata": {},
   "source": [
    "## Write all features into CSV file"
   ]
  },
  {
   "cell_type": "code",
   "execution_count": 9,
   "metadata": {},
   "outputs": [],
   "source": [
    "train.to_csv('train_2s.csv', index=False)\n",
    "test.to_csv('test_2s.csv', index=False)"
   ]
  },
  {
   "cell_type": "code",
   "execution_count": null,
   "metadata": {},
   "outputs": [],
   "source": []
  }
 ],
 "metadata": {
  "kernelspec": {
   "display_name": "Python 3",
   "language": "python",
   "name": "python3"
  },
  "language_info": {
   "codemirror_mode": {
    "name": "ipython",
    "version": 3
   },
   "file_extension": ".py",
   "mimetype": "text/x-python",
   "name": "python",
   "nbconvert_exporter": "python",
   "pygments_lexer": "ipython3",
   "version": "3.6.5"
  }
 },
 "nbformat": 4,
 "nbformat_minor": 2
}
